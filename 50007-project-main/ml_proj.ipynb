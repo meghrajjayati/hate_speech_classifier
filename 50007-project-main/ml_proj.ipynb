{
 "cells": [
  {
   "cell_type": "code",
   "execution_count": 1,
   "metadata": {},
   "outputs": [],
   "source": [
    "import numpy as np\n",
    "import math\n",
    "import random\n",
    "from tqdm import tqdm\n",
    "import itertools\n",
    "from sklearn.linear_model import LogisticRegression\n",
    "from sklearn.decomposition import PCA\n",
    "from sklearn.neighbors import KNeighborsClassifier\n",
    "from sklearn.naive_bayes import GaussianNB, MultinomialNB, ComplementNB, BernoulliNB, CategoricalNB\n",
    "from sklearn.svm import LinearSVC, NuSVC, SVC\n",
    "from sklearn.pipeline import make_pipeline\n",
    "from sklearn.preprocessing import StandardScaler\n",
    "import pandas as pd"
   ]
  },
  {
   "cell_type": "code",
   "execution_count": 2,
   "metadata": {},
   "outputs": [],
   "source": [
    "def sigmoid(z):\n",
    "    return 1 / (1 + np.exp(-z))\n",
    "\n",
    "def loss(y, y_hat):\n",
    "    return -np.mean(y * np.log(y_hat) + (1 - y) * np.log(1 - y_hat))\n",
    "\n",
    "def gradients(X, y, y_hat):\n",
    "    partial_w = (X.T.dot(y_hat - y)) / X.shape[0] \n",
    "    partial_b = np.sum(y_hat - y) / X.shape[0]\n",
    "    \n",
    "    return partial_w, partial_b\n",
    "\n",
    "def train(X, y, bs, epochs, lr):\n",
    "    # bs :  batch size\n",
    "    m, n = X.shape\n",
    "\n",
    "    w = np.zeros((n, 1))\n",
    "    b = 0\n",
    "\n",
    "    y = y.reshape(m, 1)\n",
    "    x = normalize(X)\n",
    "\n",
    "    best_w = None\n",
    "    best_b = None\n",
    "    best_loss = float(\"inf\")\n",
    "    losses = []\n",
    "\n",
    "    for _ in tqdm(range(epochs)):\n",
    "        for i in range((m - 1) // bs + 1):\n",
    "            start_idx = i * bs\n",
    "            end_idx = start_idx + bs\n",
    "        \n",
    "            x_batch = x[start_idx: end_idx]\n",
    "            y_batch = y[start_idx: end_idx]\n",
    "\n",
    "            pred = sigmoid(x_batch.dot(w) + b)\n",
    "            partial_w, partial_b = gradients(x_batch, y_batch, pred)\n",
    "\n",
    "            w -= lr * partial_w\n",
    "            b -= lr * partial_b\n",
    "\n",
    "        losses.append(loss(y, sigmoid(X.dot(w) + b)))\n",
    "\n",
    "        if losses[-1] < best_loss:\n",
    "            best_w = w\n",
    "            best_b = b\n",
    "\n",
    "    return best_w, best_b, losses\n",
    "\n",
    "def normalize(X):\n",
    "    # Replace std == 0 with std == 1 to allow normalization of columns with 0 std values\n",
    "    return (X - X.mean(axis=0)) / np.where(X.std(axis=0)==0, np.ones(X.std(axis=0).shape[0]), X.std(axis=0))\n",
    "\n",
    "def predict(X):\n",
    "    x = normalize(X)\n",
    "    return np.array([int(i > 0.5) for i in sigmoid(x.dot(w) + b)])\n",
    "\n",
    "def accuracy(y, y_hat):\n",
    "    return np.sum(y == y_hat) / len(y)"
   ]
  },
  {
   "cell_type": "code",
   "execution_count": 3,
   "metadata": {},
   "outputs": [],
   "source": [
    "def confusion_matrix(ytrue, ypred, labels):\n",
    "    output = {i:0 for i in itertools.product(labels, labels)}\n",
    "    \n",
    "    for idx, val in enumerate(ytrue):\n",
    "        output[(val, ypred[idx])] += 1\n",
    "\n",
    "    return output"
   ]
  },
  {
   "cell_type": "code",
   "execution_count": 4,
   "metadata": {},
   "outputs": [],
   "source": [
    "def f1_score(y, y_hat):\n",
    "    cm = confusion_matrix(y, y_hat, [0, 1])\n",
    "    return cm[(1, 1)] / (cm[(1, 1)] + 0.5 * (cm[(0, 1)] + cm[(1, 0)]))"
   ]
  },
  {
   "cell_type": "code",
   "execution_count": 5,
   "metadata": {},
   "outputs": [],
   "source": [
    "def stats(y, y_pred):\n",
    "    print(f\"Accuracy: {accuracy(y, y_pred)}\")\n",
    "    print(f\"Confusion Matrix: {confusion_matrix(y, y_pred, [0, 1])}\")\n",
    "    print(f\"F1 Score: {f1_score(y, y_pred)}\")\n",
    "    print()"
   ]
  },
  {
   "cell_type": "code",
   "execution_count": 6,
   "metadata": {},
   "outputs": [],
   "source": [
    "def knn_pca(train_X, test_X, train_y, n_components):\n",
    "    knn = make_pipeline(StandardScaler(), PCA(n_components=n_components), KNeighborsClassifier(n_neighbors=2))\n",
    "    knn.fit(train_X, train_y)\n",
    "    stats(train_y, knn.predict(train_X))\n",
    "    write_submission_file(f\"knn_pca_{n_components}\", test_ids, knn.predict(test_X))\n"
   ]
  },
  {
   "cell_type": "code",
   "execution_count": 7,
   "metadata": {},
   "outputs": [],
   "source": [
    "def log_reg_pca(train_X, test_X, train_y, n_components):\n",
    "    logreg = make_pipeline(StandardScaler(), PCA(n_components=n_components), LogisticRegression(solver=\"saga\", penalty=\"elasticnet\", random_state=42, max_iter=200, n_jobs=5, l1_ratio=0.5))\n",
    "    logreg.fit(train_X, train_y)\n",
    "    stats(train_y, logreg.predict(train_X))\n",
    "    write_submission_file(f\"log_reg_pca_{n_components}\", test_ids, logreg.predict(test_X))\n"
   ]
  },
  {
   "cell_type": "code",
   "execution_count": 8,
   "metadata": {},
   "outputs": [],
   "source": [
    "def write_submission_file(filename, id, prediction):\n",
    "    data = [\",\".join([str(j) for j in i]) for i in zip(id, prediction)]\n",
    "    data.insert(0, \"id,label\")\n",
    "    if filename[-4:] != \".csv\":\n",
    "        filename += \".csv\"\n",
    "    with open(\"predictions/\" + filename, \"w\") as fp:\n",
    "        fp.write(\"\\n\".join(data))"
   ]
  },
  {
   "cell_type": "code",
   "execution_count": 9,
   "metadata": {},
   "outputs": [],
   "source": [
    "train_df = pd.read_csv(\"train_tfidf_features.csv\", header=0).dropna()\n",
    "#train_df = train_df.loc[:, train_df.std() > 0]\n",
    "train_ids = train_df[\"id\"].to_numpy()\n",
    "train_y = train_df[\"label\"].to_numpy()\n",
    "train_X = train_df.drop([\"id\", \"label\"], axis=1).to_numpy()"
   ]
  },
  {
   "cell_type": "code",
   "execution_count": 10,
   "metadata": {},
   "outputs": [],
   "source": [
    "test_df = pd.read_csv(\"test_tfidf_features.csv\", header=0).dropna()\n",
    "#test_df = test_df.loc[:, test_df.std() > 0]\n",
    "test_ids = test_df[\"id\"].to_numpy()\n",
    "test_X = test_df.drop([\"id\"], axis=1).to_numpy()"
   ]
  },
  {
   "cell_type": "code",
   "execution_count": 11,
   "metadata": {},
   "outputs": [
    {
     "name": "stderr",
     "output_type": "stream",
     "text": [
      "100%|██████████| 200/200 [05:38<00:00,  1.69s/it]\n"
     ]
    },
    {
     "name": "stdout",
     "output_type": "stream",
     "text": [
      "Accuracy: 0.8524208566108007\n",
      "Confusion Matrix: {(0, 0): 9604, (0, 1): 1029, (1, 0): 1507, (1, 1): 5044}\n",
      "F1 Score: 0.7991128010139417\n",
      "\n"
     ]
    }
   ],
   "source": [
    "w, b, l = train(train_X, train_y, bs=2000, epochs=200, lr=0.01)\n",
    "stats(train_y, predict(train_X))"
   ]
  },
  {
   "cell_type": "code",
   "execution_count": 12,
   "metadata": {},
   "outputs": [
    {
     "name": "stderr",
     "output_type": "stream",
     "text": [
      "c:\\Users\\Razer\\AppData\\Local\\Programs\\Python\\Python310\\lib\\site-packages\\sklearn\\linear_model\\_logistic.py:444: ConvergenceWarning: lbfgs failed to converge (status=1):\n",
      "STOP: TOTAL NO. of ITERATIONS REACHED LIMIT.\n",
      "\n",
      "Increase the number of iterations (max_iter) or scale the data as shown in:\n",
      "    https://scikit-learn.org/stable/modules/preprocessing.html\n",
      "Please also refer to the documentation for alternative solver options:\n",
      "    https://scikit-learn.org/stable/modules/linear_model.html#logistic-regression\n",
      "  n_iter_i = _check_optimize_result(\n"
     ]
    },
    {
     "name": "stdout",
     "output_type": "stream",
     "text": [
      "Accuracy: 0.8732541899441341\n",
      "Confusion Matrix: {(0, 0): 9687, (0, 1): 946, (1, 0): 1232, (1, 1): 5319}\n",
      "F1 Score: 0.8300561797752809\n",
      "\n"
     ]
    }
   ],
   "source": [
    "clf = make_pipeline(StandardScaler(), LogisticRegression()).fit(train_X, train_y)\n",
    "stats(train_y, clf.predict(train_X))\n",
    "write_submission_file(\"skl_log_reg_pred.csv\", test_ids, clf.predict(test_X))"
   ]
  },
  {
   "cell_type": "code",
   "execution_count": 58,
   "metadata": {},
   "outputs": [],
   "source": [
    "write_submission_file(\"LogRed_Prediction.csv\", test_ids, predict(test_X))"
   ]
  },
  {
   "cell_type": "code",
   "execution_count": 13,
   "metadata": {},
   "outputs": [
    {
     "name": "stdout",
     "output_type": "stream",
     "text": [
      "Accuracy: 0.8200069832402235\n",
      "Confusion Matrix: {(0, 0): 10630, (0, 1): 3, (1, 0): 3090, (1, 1): 3461}\n",
      "F1 Score: 0.691163255117324\n",
      "\n"
     ]
    }
   ],
   "source": [
    "# KNN baseline\n",
    "knn = make_pipeline(StandardScaler(), KNeighborsClassifier(n_neighbors=2))\n",
    "knn.fit(train_X, train_y)\n",
    "stats(train_y, knn.predict(train_X))"
   ]
  },
  {
   "cell_type": "code",
   "execution_count": 16,
   "metadata": {},
   "outputs": [
    {
     "name": "stdout",
     "output_type": "stream",
     "text": [
      "n_components: 5000\n"
     ]
    },
    {
     "name": "stderr",
     "output_type": "stream",
     "text": [
      "c:\\Users\\Razer\\AppData\\Local\\Programs\\Python\\Python310\\lib\\site-packages\\sklearn\\linear_model\\_sag.py:350: ConvergenceWarning: The max_iter was reached which means the coef_ did not converge\n",
      "  warnings.warn(\n"
     ]
    },
    {
     "name": "stdout",
     "output_type": "stream",
     "text": [
      "Accuracy: 0.8709264432029795\n",
      "Confusion Matrix: {(0, 0): 9691, (0, 1): 942, (1, 0): 1276, (1, 1): 5275}\n",
      "F1 Score: 0.8262844611528822\n",
      "\n",
      "n_components: 4000\n"
     ]
    },
    {
     "name": "stderr",
     "output_type": "stream",
     "text": [
      "c:\\Users\\Razer\\AppData\\Local\\Programs\\Python\\Python310\\lib\\site-packages\\sklearn\\linear_model\\_sag.py:350: ConvergenceWarning: The max_iter was reached which means the coef_ did not converge\n",
      "  warnings.warn(\n"
     ]
    },
    {
     "name": "stdout",
     "output_type": "stream",
     "text": [
      "Accuracy: 0.8430516759776536\n",
      "Confusion Matrix: {(0, 0): 9499, (0, 1): 1134, (1, 0): 1563, (1, 1): 4988}\n",
      "F1 Score: 0.7871853546910755\n",
      "\n",
      "n_components: 3000\n"
     ]
    },
    {
     "name": "stderr",
     "output_type": "stream",
     "text": [
      "c:\\Users\\Razer\\AppData\\Local\\Programs\\Python\\Python310\\lib\\site-packages\\sklearn\\linear_model\\_sag.py:350: ConvergenceWarning: The max_iter was reached which means the coef_ did not converge\n",
      "  warnings.warn(\n"
     ]
    },
    {
     "name": "stdout",
     "output_type": "stream",
     "text": [
      "Accuracy: 0.8137220670391061\n",
      "Confusion Matrix: {(0, 0): 9354, (0, 1): 1279, (1, 0): 1922, (1, 1): 4629}\n",
      "F1 Score: 0.7430772935227546\n",
      "\n",
      "n_components: 2000\n",
      "Accuracy: 0.7811336126629422\n",
      "Confusion Matrix: {(0, 0): 9198, (0, 1): 1435, (1, 0): 2326, (1, 1): 4225}\n",
      "F1 Score: 0.6919990172795021\n",
      "\n",
      "n_components: 1000\n",
      "Accuracy: 0.7494762569832403\n",
      "Confusion Matrix: {(0, 0): 9134, (0, 1): 1499, (1, 0): 2806, (1, 1): 3745}\n",
      "F1 Score: 0.6350148367952523\n",
      "\n",
      "n_components: 500\n",
      "Accuracy: 0.7255004655493482\n",
      "Confusion Matrix: {(0, 0): 9033, (0, 1): 1600, (1, 0): 3117, (1, 1): 3434}\n",
      "F1 Score: 0.5928355632283124\n",
      "\n",
      "n_components: 100\n",
      "Accuracy: 0.6872090316573557\n",
      "Confusion Matrix: {(0, 0): 9164, (0, 1): 1469, (1, 0): 3906, (1, 1): 2645}\n",
      "F1 Score: 0.4960150023441163\n",
      "\n"
     ]
    }
   ],
   "source": [
    "# 5000 components as sanity check to make sure I'm not screwing the implementation up\n",
    "for i in [5000, 4000, 3000, 2000, 1000, 500, 100]:\n",
    "    print(f\"n_components: {i}\")\n",
    "    log_reg_pca(train_X, test_X, train_y, i)"
   ]
  },
  {
   "cell_type": "code",
   "execution_count": 17,
   "metadata": {},
   "outputs": [
    {
     "name": "stdout",
     "output_type": "stream",
     "text": [
      "n_components: 5000\n",
      "Accuracy: 0.8199487895716946\n",
      "Confusion Matrix: {(0, 0): 10630, (0, 1): 3, (1, 0): 3091, (1, 1): 3460}\n",
      "F1 Score: 0.6910325544238066\n",
      "\n",
      "n_components: 4000\n",
      "Accuracy: 0.8066806331471136\n",
      "Confusion Matrix: {(0, 0): 10628, (0, 1): 5, (1, 0): 3317, (1, 1): 3234}\n",
      "F1 Score: 0.6606741573033708\n",
      "\n",
      "n_components: 3000\n",
      "Accuracy: 0.7989408752327747\n",
      "Confusion Matrix: {(0, 0): 10617, (0, 1): 16, (1, 0): 3439, (1, 1): 3112}\n",
      "F1 Score: 0.6430416365326996\n",
      "\n",
      "n_components: 2000\n",
      "Accuracy: 0.7926559590316573\n",
      "Confusion Matrix: {(0, 0): 10623, (0, 1): 10, (1, 0): 3553, (1, 1): 2998}\n",
      "F1 Score: 0.6272622659273983\n",
      "\n",
      "n_components: 1000\n",
      "Accuracy: 0.7926559590316573\n",
      "Confusion Matrix: {(0, 0): 10630, (0, 1): 3, (1, 0): 3560, (1, 1): 2991}\n",
      "F1 Score: 0.6267155578837087\n",
      "\n",
      "n_components: 500\n",
      "Accuracy: 0.792830540037244\n",
      "Confusion Matrix: {(0, 0): 10630, (0, 1): 3, (1, 0): 3557, (1, 1): 2994}\n",
      "F1 Score: 0.6271470465018852\n",
      "\n",
      "n_components: 100\n",
      "Accuracy: 0.7988826815642458\n",
      "Confusion Matrix: {(0, 0): 10629, (0, 1): 4, (1, 0): 3452, (1, 1): 3099}\n",
      "F1 Score: 0.642013673088875\n",
      "\n"
     ]
    }
   ],
   "source": [
    "# 5000 components as sanity check to make sure I'm not screwing the implementation up\n",
    "for i in [5000, 4000, 3000, 2000, 1000, 500, 100]:\n",
    "    print(f\"n_components: {i}\")\n",
    "    knn_pca(train_X, test_X, train_y, i)"
   ]
  },
  {
   "cell_type": "code",
   "execution_count": 70,
   "metadata": {},
   "outputs": [
    {
     "name": "stdout",
     "output_type": "stream",
     "text": [
      "Accuracy: 0.5698905959031657\n",
      "Confusion Matrix: {(0, 0): 3299, (0, 1): 7334, (1, 0): 57, (1, 1): 6494}\n",
      "F1 Score: 0.6373227341871535\n",
      "\n"
     ]
    },
    {
     "name": "stderr",
     "output_type": "stream",
     "text": [
      "c:\\Users\\Razer\\AppData\\Local\\Programs\\Python\\Python310\\lib\\site-packages\\sklearn\\svm\\_base.py:1225: ConvergenceWarning: Liblinear failed to converge, increase the number of iterations.\n",
      "  warnings.warn(\n"
     ]
    },
    {
     "name": "stdout",
     "output_type": "stream",
     "text": [
      "Accuracy: 0.806913407821229\n",
      "Confusion Matrix: {(0, 0): 8944, (0, 1): 1689, (1, 0): 1629, (1, 1): 4922}\n",
      "F1 Score: 0.7479106518766145\n",
      "\n"
     ]
    }
   ],
   "source": [
    "def model_trainer(train_X, test_X, train_y, model):\n",
    "    # Maybe not necessary to scale data for Naive Bayes\n",
    "    # https://stats.stackexchange.com/questions/249317/what-is-the-effect-of-data-scaling-when-compared-between-knn-naive-bayes-or-log\n",
    "    # Improves SVM performance though\n",
    "    # https://www.baeldung.com/cs/svm-feature-scaling\n",
    "    model = make_pipeline(StandardScaler(), model())\n",
    "    model.fit(train_X, train_y)\n",
    "    stats(train_y, model.predict(train_X))\n",
    "    return model.predict(test_X)\n",
    "\n",
    "# RBF SVC not viable for >10000 samples\n",
    "# for i in [GaussianNB, LinearSVC, SVC]:\n",
    "for idx, i in enumerate([GaussianNB, LinearSVC]):\n",
    "    y_pred = model_trainer(train_X, test_X, train_y, i)\n",
    "    write_submission_file([\"GaussianNB\", \"LinearSVC\"][idx], test_ids, y_pred)"
   ]
  },
  {
   "cell_type": "code",
   "execution_count": 43,
   "metadata": {},
   "outputs": [],
   "source": [
    "# https://nlp.stanford.edu/pubs/sidaw12_simple_sentiment.pdf\n",
    "# https://github.com/fastforwardlabs/nbsvm/tree/master/nbsvm\n",
    "from sklearn.base import BaseEstimator\n",
    "from sklearn.linear_model._base import LinearClassifierMixin\n",
    "from sklearn.utils.multiclass import unique_labels\n",
    "\n",
    "class NBSVM(BaseEstimator, LinearClassifierMixin):\n",
    "    def __init__(self):\n",
    "        self.alpha = 1\n",
    "        self.beta = 0.25\n",
    "        self.C = 1\n",
    "    \n",
    "    def fit(self, X, y):\n",
    "        self.classes_ = unique_labels(y)\n",
    "        r = self._log_count_ratio(X, y)\n",
    "        print(X.shape)\n",
    "        print(r.shape)\n",
    "        X = X.multiply(r)\n",
    "        svm = LinearSVC(C=self.C).fit(X, y)\n",
    "        coef = self._interpolate(svm.coef_)\n",
    "        coef *= r\n",
    "\n",
    "        self.coef_ = coef\n",
    "        self.intercept_ = svm.intercept_\n",
    "        return self\n",
    "\n",
    "    def _log_count_ratio(self, X, y):\n",
    "        p = self.alpha + X[y == 1].sum(axis=0)\n",
    "        q = self.alpha + X[y == 0].sum(axis=0)\n",
    "        return (self._log_normalize_count_vector(p) - self._log_normalize_count_vector(q))\n",
    "    \n",
    "    def _log_normalize_count_vector(self,arr):\n",
    "        return np.log(arr / np.linalg.norm(arr, 1))\n",
    "\n",
    "    def _interpolate(self, coef):\n",
    "        mean_weight = np.abs(coef).mean()\n",
    "        return self.beta * coef + (1 - self.beta) * mean_weight"
   ]
  },
  {
   "cell_type": "code",
   "execution_count": 46,
   "metadata": {},
   "outputs": [],
   "source": [
    "from sklearn.feature_extraction.text import CountVectorizer\n",
    "\n",
    "vectorizer = CountVectorizer(binary=True)\n",
    "\n",
    "raw_train_df = pd.read_csv(\"train.csv\", header=0).dropna()\n",
    "raw_train_ids = raw_train_df[\"id\"].to_numpy()\n",
    "raw_train_y = raw_train_df[\"label\"].to_numpy()\n",
    "raw_train_X = raw_train_df.drop([\"id\", \"label\"], axis=1).to_numpy()\n",
    "\n",
    "test_df = pd.read_csv(\"test.csv\", header=0).dropna()\n",
    "test_ids = test_df[\"id\"].to_numpy()\n",
    "test_X = test_df.drop([\"id\"], axis=1).to_numpy()\n",
    "\n",
    "raw_train_X_np = vectorizer.fit_transform(raw_train_X.flatten())\n",
    "\n",
    "# model = NBSVM().fit(raw_train_X_np, raw_train_y)\n",
    "# stats(raw_train_y, model.predict(raw_train_X_np))"
   ]
  },
  {
   "cell_type": "code",
   "execution_count": 51,
   "metadata": {},
   "outputs": [],
   "source": [
    "raw_test_X_np = vectorizer.transform(test_X.flatten())\n",
    "y_pred = model.predict(raw_test_X_np)\n",
    "write_submission_file(\"NBSVM_Prediction.csv\", test_ids, y_pred)"
   ]
  },
  {
   "cell_type": "code",
   "execution_count": null,
   "metadata": {},
   "outputs": [
    {
     "name": "stdout",
     "output_type": "stream",
     "text": [
      "Accuracy: 0.7732192737430168\n",
      "Confusion Matrix: {(0, 0): 10295, (0, 1): 338, (1, 0): 3559, (1, 1): 2992}\n",
      "F1 Score: 0.6056067199676146\n",
      "\n"
     ]
    }
   ],
   "source": [
    "model = NBSVM().fit(train_X, train_y)\n",
    "stats(train_y, model.predict(train_X))"
   ]
  },
  {
   "cell_type": "code",
   "execution_count": null,
   "metadata": {},
   "outputs": [
    {
     "name": "stdout",
     "output_type": "stream",
     "text": [
      "Accuracy: 0.9111240438975723\n",
      "Confusion Matrix: {(0, 0): 7304, (0, 1): 134, (1, 0): 935, (1, 1): 3655}\n",
      "F1 Score: 0.8724191430958348\n",
      "\n"
     ]
    }
   ],
   "source": [
    "from sklearn.model_selection import train_test_split\n",
    "\n",
    "X_train, X_test, y_train, y_test = train_test_split(train_X, train_y, test_size=0.3)\n",
    "y_pred = model_trainer(X_train, X_test, y_train, SVC)\n",
    "write_submission_file(\"SVM_Prediction.csv\", test_ids, y_pred)"
   ]
  },
  {
   "cell_type": "code",
   "execution_count": null,
   "metadata": {},
   "outputs": [
    {
     "name": "stdout",
     "output_type": "stream",
     "text": [
      "Accuracy: 0.6881303335919318\n",
      "Confusion Matrix: {(0, 0): 2919, (0, 1): 276, (1, 0): 1332, (1, 1): 629}\n",
      "F1 Score: 0.43893928820655964\n",
      "\n"
     ]
    }
   ],
   "source": [
    "stats(y_test, y_pred)"
   ]
  },
  {
   "cell_type": "code",
   "execution_count": 67,
   "metadata": {},
   "outputs": [],
   "source": [
    "with open(\"SVM_Prediction.csv\") as fp:\n",
    "    svm_pred = [int(i.split(\",\")[1]) for i in fp.read().split()[1:]]\n",
    "\n",
    "log_reg_pred = predict(test_X)"
   ]
  },
  {
   "cell_type": "code",
   "execution_count": 68,
   "metadata": {},
   "outputs": [
    {
     "name": "stdout",
     "output_type": "stream",
     "text": [
      "0.41503724394785846\n"
     ]
    }
   ],
   "source": [
    "mismatch = 0\n",
    "\n",
    "for idx, val in enumerate(svm_pred):\n",
    "    if val != log_reg_pred[idx]:\n",
    "        mismatch += 1\n",
    "\n",
    "print(mismatch / len(svm_pred))"
   ]
  },
  {
   "cell_type": "code",
   "execution_count": 22,
   "metadata": {},
   "outputs": [],
   "source": [
    "def compare_predictions(filename1, filename2):\n",
    "    with open(filename1) as fp:\n",
    "        filename1_pred = [int(i.split(\",\")[1]) for i in fp.read().split()[1:]]\n",
    "    with open(filename2) as fp:\n",
    "        filename2_pred = [int(i.split(\",\")[1]) for i in fp.read().split()[1:]]\n",
    "\n",
    "    match_count = 0\n",
    "\n",
    "    for idx, val in enumerate(filename1_pred):\n",
    "        if val == filename2_pred[idx]:\n",
    "            match_count += 1\n",
    "\n",
    "    print(f\"Percentage Match: {match_count / len(filename1_pred)}\")"
   ]
  },
  {
   "cell_type": "code",
   "execution_count": 24,
   "metadata": {},
   "outputs": [
    {
     "name": "stdout",
     "output_type": "stream",
     "text": [
      "Percentage Match: 0.86731843575419\n",
      "Percentage Match: 0.5570297951582868\n"
     ]
    }
   ],
   "source": [
    "compare_predictions(\"predictions/LogRed_Prediction.csv\", \"predictions/skl_log_reg_pred.csv\")\n",
    "compare_predictions(\"predictions/LogRed_Prediction.csv\", \"predictions/log_reg_pca_4000.csv\")"
   ]
  },
  {
   "cell_type": "code",
   "execution_count": 19,
   "metadata": {},
   "outputs": [
    {
     "name": "stdout",
     "output_type": "stream",
     "text": [
      "Fitting 5 folds for each of 100 candidates, totalling 500 fits\n",
      "Accuracy: 0.996566573556797\n",
      "Confusion Matrix: {(0, 0): 10602, (0, 1): 31, (1, 0): 28, (1, 1): 6523}\n",
      "F1 Score: 0.9954979015642884\n",
      "\n"
     ]
    }
   ],
   "source": [
    "from sklearn.ensemble import RandomForestClassifier\n",
    "from sklearn.model_selection import GridSearchCV\n",
    "from sklearn.pipeline import Pipeline\n",
    "\n",
    "pipe = Pipeline([('classifier' , RandomForestClassifier())])\n",
    "\n",
    "# Create param grid.\n",
    "\n",
    "param_grid = [\n",
    "    {'classifier' : [LogisticRegression()],\n",
    "     'classifier__penalty' : ['l1', 'l2'],\n",
    "    'classifier__C' : np.logspace(-4, 4, 20),\n",
    "    'classifier__solver' : ['liblinear']},\n",
    "    {'classifier' : [RandomForestClassifier()],\n",
    "    'classifier__n_estimators' : list(range(10,101,10)),\n",
    "    'classifier__max_features' : list(range(6,32,5))}\n",
    "]\n",
    "\n",
    "# Create grid search object\n",
    "\n",
    "clf = GridSearchCV(pipe, param_grid = param_grid, cv = 5, verbose=True, n_jobs=-1)\n",
    "\n",
    "# Fit on data\n",
    "\n",
    "best_clf = clf.fit(train_X, train_y)\n",
    "stats(train_y, best_clf.predict(train_X))"
   ]
  },
  {
   "cell_type": "code",
   "execution_count": 20,
   "metadata": {},
   "outputs": [],
   "source": [
    "write_submission_file(\"rand_for_pred.csv\",  test_ids, best_clf.predict(test_X))"
   ]
  },
  {
   "cell_type": "code",
   "execution_count": 51,
   "metadata": {},
   "outputs": [
    {
     "name": "stdout",
     "output_type": "stream",
     "text": [
      "Percentage Match: 0.9238826815642458\n"
     ]
    }
   ],
   "source": [
    "compare_predictions(\"predictions/rand_for_pred.csv\", \"predictions/rand_for_pred_11_feat_300_est.csv\")"
   ]
  },
  {
   "cell_type": "code",
   "execution_count": null,
   "metadata": {},
   "outputs": [],
   "source": [
    "from sklearn.ensemble import RandomForestClassifier\n",
    "from sklearn.model_selection import GridSearchCV\n",
    "from sklearn.pipeline import Pipeline\n",
    "\n",
    "pipe = Pipeline([('pca', PCA()), ('classifier' , RandomForestClassifier())])\n",
    "\n",
    "# Create param grid.\n",
    "\n",
    "param_grid = [\n",
    "    {'classifier' : [RandomForestClassifier()],\n",
    "    'classifier__n_estimators' : list(range(10,101,10)),\n",
    "    'classifier__max_features' : list(range(6,32,5))},\n",
    "    {'pca': [PCA()],\n",
    "    'pca__n_components': [\"mle\", 4000, 3000, 2000, 1000],\n",
    "    'pca__whiten': [True, False],\n",
    "    }\n",
    "]\n",
    "\n",
    "# Create grid search object\n",
    "\n",
    "clf = GridSearchCV(pipe, param_grid = param_grid, cv = 5, verbose=True, n_jobs=-1)\n",
    "\n",
    "# Fit on data\n",
    "\n",
    "best_clf = clf.fit(train_X, train_y)\n",
    "stats(train_y, best_clf.predict(train_X))"
   ]
  },
  {
   "cell_type": "code",
   "execution_count": 28,
   "metadata": {},
   "outputs": [
    {
     "name": "stdout",
     "output_type": "stream",
     "text": [
      "Accuracy: 0.996566573556797\n",
      "Confusion Matrix: {(0, 0): 10607, (0, 1): 26, (1, 0): 33, (1, 1): 6518}\n",
      "F1 Score: 0.9954944635357007\n",
      "\n",
      "Accuracy: 0.9962174115456238\n",
      "Confusion Matrix: {(0, 0): 10611, (0, 1): 22, (1, 0): 43, (1, 1): 6508}\n",
      "F1 Score: 0.9950309609357083\n",
      "\n",
      "Accuracy: 0.995286312849162\n",
      "Confusion Matrix: {(0, 0): 10620, (0, 1): 13, (1, 0): 68, (1, 1): 6483}\n",
      "F1 Score: 0.9937916762474132\n",
      "\n",
      "Accuracy: 0.9913873370577281\n",
      "Confusion Matrix: {(0, 0): 10617, (0, 1): 16, (1, 0): 132, (1, 1): 6419}\n",
      "F1 Score: 0.9886031110426613\n",
      "\n",
      "Accuracy: 0.9838221601489758\n",
      "Confusion Matrix: {(0, 0): 10610, (0, 1): 23, (1, 0): 255, (1, 1): 6296}\n",
      "F1 Score: 0.9783993783993784\n",
      "\n"
     ]
    }
   ],
   "source": [
    "for i in [4000, 3000, 2000, 1000, 500]:\n",
    "    model = make_pipeline(StandardScaler(), PCA(n_components=i), RandomForestClassifier(n_estimators=100, max_features=6))\n",
    "    model.fit(train_X, train_y)\n",
    "    stats(train_y, model.predict(train_X))\n",
    "    y_pred = model.predict(test_X)\n",
    "    write_submission_file(f\"rand_for_pred_{i}\", test_ids, y_pred)"
   ]
  },
  {
   "cell_type": "code",
   "execution_count": 29,
   "metadata": {},
   "outputs": [
    {
     "name": "stdout",
     "output_type": "stream",
     "text": [
      "Accuracy: 0.996566573556797\n",
      "Confusion Matrix: {(0, 0): 10605, (0, 1): 28, (1, 0): 31, (1, 1): 6520}\n",
      "F1 Score: 0.9954958393770517\n",
      "\n"
     ]
    }
   ],
   "source": [
    "from sklearn.ensemble import RandomForestClassifier\n",
    "from sklearn.model_selection import GridSearchCV\n",
    "from sklearn.pipeline import Pipeline\n",
    "\n",
    "pipe = Pipeline([('classifier' , RandomForestClassifier())])\n",
    "\n",
    "# Create param grid.\n",
    "\n",
    "param_grid = [\n",
    "    {'classifier' : [RandomForestClassifier()],\n",
    "    'classifier__n_estimators' : list(range(100, 501, 100)),\n",
    "    'classifier__max_features' : list(range(6,32,5))}\n",
    "]\n",
    "\n",
    "# Create grid search object\n",
    "\n",
    "clf = GridSearchCV(pipe, param_grid = param_grid, cv = 5, verbose=0, n_jobs=-1)\n",
    "\n",
    "# Fit on data\n",
    "\n",
    "best_clf = clf.fit(train_X, train_y)\n",
    "stats(train_y, best_clf.predict(train_X))"
   ]
  },
  {
   "cell_type": "code",
   "execution_count": 49,
   "metadata": {},
   "outputs": [],
   "source": [
    "write_submission_file(\"rand_for_pred_11_feat_300_est.csv\", test_ids, best_clf.predict(test_X))"
   ]
  },
  {
   "cell_type": "code",
   "execution_count": 32,
   "metadata": {},
   "outputs": [],
   "source": [
    "import pickle\n",
    "with open(\"models/rand_for_clas.pkl\", \"wb\") as fp:\n",
    "    pickle.dump(best_clf, fp)"
   ]
  },
  {
   "cell_type": "code",
   "execution_count": 48,
   "metadata": {},
   "outputs": [],
   "source": [
    "raw_train_df = pd.read_csv(\"train.csv\", header=0).dropna()\n",
    "raw_train_ids = raw_train_df[\"id\"].to_numpy()\n",
    "raw_train_y = raw_train_df[\"label\"].to_numpy()\n",
    "raw_train_X = raw_train_df.drop([\"id\", \"label\"], axis=1).to_numpy().flatten()\n",
    "\n",
    "raw_test_df = pd.read_csv(\"test.csv\", header=0).dropna()\n",
    "raw_test_ids = raw_test_df[\"id\"].to_numpy()\n",
    "raw_test_X = raw_test_df.drop([\"id\"], axis=1).to_numpy().flatten()"
   ]
  },
  {
   "cell_type": "code",
   "execution_count": 87,
   "metadata": {},
   "outputs": [
    {
     "name": "stderr",
     "output_type": "stream",
     "text": [
      "c:\\Users\\Razer\\AppData\\Local\\Programs\\Python\\Python310\\lib\\site-packages\\sklearn\\utils\\deprecation.py:87: FutureWarning: Function get_feature_names is deprecated; get_feature_names is deprecated in 1.0 and will be removed in 1.2. Please use get_feature_names_out instead.\n",
      "  warnings.warn(msg, category=FutureWarning)\n",
      "c:\\Users\\Razer\\AppData\\Local\\Programs\\Python\\Python310\\lib\\site-packages\\sklearn\\decomposition\\_nmf.py:1477: FutureWarning: `alpha` was deprecated in version 1.0 and will be removed in 1.2. Use `alpha_W` and `alpha_H` instead\n",
      "  warnings.warn(\n"
     ]
    },
    {
     "name": "stdout",
     "output_type": "stream",
     "text": [
      "Topic 0:\n",
      "white white people privilege white white white privilege trash white trash pride white pride white person guilt lol white guilt male children americans ppl arent isnt white male american white americans white children mean crime person black white new blacks white ppl\n",
      "Topic 1:\n",
      "people white people black people hate white people white people like people racist people hate people dont thats hates people need hates white history point brown arent say bad killing people arent racists american people doing killed fellow problem culture come going\n",
      "Topic 2:\n",
      "racist racist white white racist people racist youre racist racist hate called im racist called racist racist racist fair group makes hes racist isnt wall racist black thats anti racist hes black racist said makes racist racist people bigoted guess thats racist wow saying word\n",
      "Topic 3:\n",
      "right alt alt right right white milo right alt said wing left alt lite lite right wing right just altright white right yeah said alt cuck movement far yes guys used thats bannon real protest going win disavow\n",
      "Topic 4:\n",
      "black black people black white white black black man crime people person black person guy hate black racist black difference im black white crime black guy black black black racist whats difference black black lives asian black men girl say violence whats difference murders race communities\n",
      "Topic 5:\n",
      "hate group hate group hate white hate crime people hate crime racist hate white hate hate hate dont hate hate people fair hate whites hate speech hate black hate groups groups speech splc hate america love hate crimes crimes heritage stop really islamic muslim jihad\n",
      "Topic 6:\n",
      "race white race white race war war human race history human race mixing mixing race white aryan superior isnt love aryan race saving survive future wants people race mixed race greatest amazing mixed harvard david doesnt race superior preserve\n",
      "Topic 7:\n",
      "anti anti white white anti racist white hate code white anti propaganda racism racist anti racist code white racist code word just anti say anti word white racism anti semitism semitism stop anti white propaganda agenda jewish word anti say white agenda stop video anti american anti racism\n",
      "Topic 8:\n",
      "like people like like white looks looks like look like look just like dont like people sound sound like guys sounds like sounds really like people better id act things racist like like antifa come act like believe trash god big life\n",
      "Topic 9:\n",
      "house white house white immigration muslim tcot obama muslim white secure rally noamnesty outside white market briefing outside border trump white cia house press press briefing gets smart russia wakeupamerica 17 white press prolife announces faith meet\n",
      "Topic 10:\n",
      "supremacists white supremacists white group supremacists white hate group fair nazis nazis white trumps fair immigration communities wall new branded hate immigration branded racists white branded ones know white real known yes diversity seriously threat ppl seen racists attacked\n",
      "Topic 11:\n",
      "kill kill kill kill white kill people want kill muslim people kill koran kill jews christians dont kill isis muslims kill kill christians trying kill infidels islamic quran gay christian trying love kill isis allah yes commanded kill muslims says islamophobia blacks\n",
      "Topic 12:\n",
      "im im white im sure im racist white im im black sorry join im sorry lol guys ive im going guess love im proud im talking confused talking proud thats say called going makes sexist shame hey called racist im just\n",
      "Topic 13:\n",
      "supremacist white supremacist white racist white fair group supremacist group ties thought supremacist hate ties white propaganda definitely black supremacist groups extremist youre white calling hes black white slur tell claiming white white oh thanks label disagrees leader suspected\n",
      "Topic 14:\n",
      "supremacy white supremacy white global racism racism white thats promoting white group symbol white live place promoting thats white end symbol true white nazism evolution colonialism hate group carolina support white true global white society did white way white white new white\n",
      "Topic 15:\n",
      "dont people dont dont want dont know care dont think dont like dont care dont need understand dont hate dont understand dont believe dont white believe tell just dont dont forget mean people dont exist forget exist dont kill white dont dont make dont let whites dont look blacks\n",
      "Topic 16:\n",
      "america white america america white country make america hate america people america nation white founded new white country racism end america great stand coming created european white nation come america founded come america safe year rural great racial 90 white north america\n",
      "Topic 17:\n",
      "jews jews white jewish kill jews jews arent arent israel arent white white jews jews jews hate jews white countries christians jared theyre jews hate euro countries holocaust withjewswelose hitler die didnt control queers palestinians cleric white theyre jews dont thats\n",
      "Topic 18:\n",
      "youre youre white youre racist white youre cuck racist youre lol jewish ok youre just youre really think youre bit youre going stupid youre right pretty traitor know youre wrong youre black probably wait really youre saying unless going like youre said american\n",
      "Topic 19:\n",
      "genocide white genocide white genocide accelerates accelerates genocide white stop white video genocide video whitegenocide genocide america stop read 1960 google real push france genocide united 100 year swrm year history america 100 genocide continues continues white race minority work states america history diversity\n",
      "Topic 20:\n",
      "nationalism white nationalism civic nationalism civic nationalism white white 10 southern nationalism government american southern isnt gay movement stand deny foot author comes place paris nationalsocialism opinions explained fascism real future white tho failed cuckservative\n",
      "Topic 21:\n",
      "man white man black man man march march man white white woman video hes racist black shot man woman black car time message gang upcoming blame white confederate racist white charged mosque marriage gets republic action man punches confederate flag\n",
      "Topic 22:\n",
      "whites blacks non whites hate whites whites white poor whites racist true population poor whites country non whites need whites dont whites blacks world majority blacks whites self europe anti whites kill whites wants whites just care arent diversity children slavery racist whites\n",
      "Topic 23:\n",
      "trump cruz president trump white president trump donald trump donald cuckservatives vote supporters support ted ted cruz obama trump supporters cuck vote trump cuckservative hillary cuckservatives trump trump racist going gop support trump voting conservatism gopdebate win rubio poll\n",
      "Topic 24:\n",
      "antifa violence violent blm white antifa police faggots probably today wont group terrorists nazis like antifa beat leftist say theyre going watch way attack peaceful protest really blm antifa communist fight rally isis\n",
      "Topic 25:\n",
      "just just white just like people just just dont let just racist racist just youre just just want saying bad guess just say say just saying hes better just anti looking just hate thing dead white theyre isnt obama optics im just just kill white just\n",
      "Topic 26:\n",
      "nationalist white nationalist white nationalist white nationalist movement movement orania groups continues amren spencer town propaganda group new patriotic youre white trumps party close trump white trumps white discredit fans skinhead graham low launch new white conference\n",
      "Topic 27:\n",
      "jew jew jew jew white palestinian jew hate muslim christian jewish christian jew german kill jew withjewswelose hating long stalin whats white jew says vs international jew gay spencer typical israel angry filthy jew run international confused beat\n",
      "Topic 28:\n",
      "men white men black men white men women mayor straight men like asian women white candidate dead candidate angry white london angry straight white hate white gay hot stole protect young free evil guns girls rapists warriors thank\n",
      "Topic 29:\n",
      "rt rt rt world rt stopislam stopislam india video tcot rt white attack marriage makedclisten bjp religious does noamnesty says islamic illegal end life new national russian said liberty knew time cuckservative hitler\n",
      "Topic 30:\n",
      "think dont think people think think white think people really really think racist think people optics think youre lol actually makes kkk think racist control dems think like massive read child doesnt jewish going thats live tank hey agree\n",
      "Topic 31:\n",
      "holocaust news comments debate holocaust debate comments news debate comments fake auschwitz survivor fake news video holocaust survivor does day david today jewish new great news gas whos hello germany hoax real hatred dies really denial\n",
      "Topic 32:\n",
      "identity white identity politics identity politics identity evropa evropa rise white rise identity white implicit european stand cuckservatives europa racial identity racial identity europa gender southern gender identity rally latest trucons turning taking american groups mlk create conservatives\n",
      "Topic 33:\n",
      "good good white good thing good people thing good work work optics good job job bad good bad guys good luck sounds thats good luck support let does better time reason muslim oh feeling citizens thats good idea illegals\n",
      "Topic 34:\n",
      "know dont know know white didnt know didnt people know did know know people let know youre doesnt doesnt know means right doing bjp people national love feel care talking really christian thanks say does illegals fear run\n",
      "Topic 35:\n",
      "non non white white non whites read white invaders invaders white immigration white non immigration invasion germany white invasion britain swrm accelerates genocide accelerates germany non france generation ethnic italy auspol white immigrants protest raped comes finns britain non increasing\n",
      "Topic 36:\n",
      "islam religion world muslim tcot islam islamophobia islamophobia ban islamophobia tcot peace better islam race political peaceful western islam muslims civilization convert warner sharia makes isis simple doesnt obama years civilized place evil religion peace\n",
      "Topic 37:\n",
      "need people need dont need need white help whites need doesnt need need die illegals immigration die need stop just need defundpp unless stop start block doing usa really dont milo country doesnt issue purge jobs wall reason really\n",
      "Topic 38:\n",
      "south africa south africa league league south white south south african africans african south africans africa white carolina south carolina deep south deep video blacks war white refugees africa video murders west new southern sadistic refugees war south kim racist blacks grow\n",
      "Topic 39:\n",
      "sure im sure pretty pretty sure make sure im im pretty thats thats sure way going human sure dont yea making theyre tell hes right doesnt shes happen bible sure did look work dude gonna arent really\n",
      "Topic 40:\n",
      "make great make america make white make sure doesnt make doesnt dont make sense america white people make america great make sense look want make does make look like trying make bjp going does make racist just make better trying babies lose lets case wont\n",
      "Topic 41:\n",
      "lives matter lives matter white lives black lives doesnt matter rally dont matter black say doesnt say white message blm said joke rallies boomer uh wont important guys cop love white lies happened bans says said white chant\n",
      "Topic 42:\n",
      "nationalists white nationalists white nationalists white trump white tennessee right white stockholm video stockholm created free nazis swedish similar campaign charlottesville ban free speech opposition went march video nonsense senate greek swrm platform isnt whitepower website\n",
      "Topic 43:\n",
      "want dont want want white want kill people want doesnt want just want white want doesnt want america hate want jews want live estonia care want make die country want live bring white country really want believe people freedom government assimilate start sharia say\n",
      "Topic 44:\n",
      "media social social media jewish mainstream mainstream media jewish media control news media controlled fake mass media reporting altright outlets tells mass coverage lies rebel wrong white media real talk care threat establishment shows news fake news\n",
      "Topic 45:\n",
      "power white power power white black power join white white join guys proud brothers colours away fam fyi pick war goes real white baby agree nice leader real georgia race war storm optics represents seen read\n",
      "Topic 46:\n",
      "women white women rape rape white women america men women racial murder murder rape great love duke racial murder david duke racial duke raped david men great white women speak rights raping night black women black men speak white muslim genocide video video girls\n",
      "Topic 47:\n",
      "muslims muslims kill christians india kill muslims myjihad muslims hate hindus muslims white hate muslims deport coming islam muslims terrorists non muslims white christians jihad bjp muslims dont commanded muslim problem islamic uk stop deported myjihad islam law wont filthy\n",
      "Topic 48:\n",
      "pro pro white pro life life white pro white anti choice explicitly white white movement movement white activists white media guys abortion activists white groups argument hateful optics groups posts doesnt american care truth account believe ashamed gets\n",
      "Topic 49:\n",
      "did hitler did white adolf adolf hitler say did know today hear germany did say lol 911 people did did 911 miss israel really like did guys girl expect kid actually sure did friend read berkeley birthday anybody\n",
      "\n",
      "Topic 0:\n",
      "hes thing racial didnt white vote violence told africans past donald trump latest poll asked 12 mans white south modern century cnn south white mans donald trump south africans judges hes white large hes racist fox\n",
      "Topic 1:\n",
      "south did let end money africa political uk speak members bunch south africa tax mr murders lose league sign syria problems ideas review war website street league south rate alabama grow 911\n",
      "Topic 2:\n",
      "god talking thank faith jesus peace wasnt bet quran atlanta victim elected step james politician beginning damn referring plus talking white bless points crackers capital think youre thank god creative tn akbar revolutionary\n",
      "Topic 3:\n",
      "european christian old year white girl boy brown happy days old white months white christian em won year old suicide arab including white boy arabs christmas racially la worship suspect swedish la raza raza brown people\n",
      "Topic 4:\n",
      "good bad hope best court course report big save having california throw business foreign policy 15 takes internet original realist voted considered account white workers wars sin realist report interview bihar\n",
      "Topic 5:\n",
      "rights refugees wouldnt continue federal john shut attacked idiot civil listen thinks th invaders paying civil rights taxes silly candidate allies pic memorial kick divide human rights dutch quit park amendment pastor\n",
      "Topic 6:\n",
      "renegade chicken good news tf come america scared white holder google rapes central faith family soldier institutions does make hv preservation 32 vs white rape choose humane hand hand holocaust debate god reach lately incapable sanger involved faggot\n",
      "Topic 7:\n",
      "white supremacists blacks white supremacists person police attack stand ok trash fight nazis sorry majority pretty diversity word white person population mexican wow white trash propaganda west sharia adolf baby 20 okay words\n",
      "Topic 8:\n",
      "cuck german christians social place taking media attacks built city evidence wing justice social media refugee trucons white christians base crisis leading decades fired right wing israeli official merkel private soldiers near events\n",
      "Topic 9:\n",
      "letting marg overpopulation black folks police state idiocy strict cruelty sure tell brave racist going im im sure op write 000 principle political correctness charge cute colour threats shot white makes people love arkansas white south skinned\n",
      "Topic 10:\n",
      "stop illegals obama love woman saying needs deport talk getting jobs deported white woman lying dangerous ice france dad ignore fail syrian love white typical crazy administration wh ass saying white italy train\n",
      "Topic 11:\n",
      "race white rt white race matter doesnt lives europe heritage death lives matter black friends society western war african black lives beautiful white lives skin simply race war fighting slavery shot set dude superior bit\n",
      "Topic 12:\n",
      "antifa use coming theres violent trumps flag soon blm conference faggots strong radical afraid claim ethnostate gun daily neo clearly create crowd banned small republic nationalism minds reach actions civic\n",
      "Topic 13:\n",
      "just time look media years said hitler like does party actually makes little ask story making thought wait question remember different shouldnt post gets just like jail shit aap leftist fat\n",
      "Topic 14:\n",
      "religious whats groups future lost killing states liberty united folks stuff boys gone religious freedom mixed religious liberty future white united states hate groups army campus whats difference people country mixed race favorite bigots suck spanish threaten brotherhood\n",
      "Topic 15:\n",
      "american illegal yes countries start border home war citizens aliens criminals illegal aliens white countries arrested religiousfreedom security second splc secure criminal given gov renaissance 1st mexicans enforcement american renaissance destroying buy deny\n",
      "Topic 16:\n",
      "hate white identity really guys point hate white feel yeah politics win white identity self truth crime sad hate crime goes idea muslims jews half agenda conservatism comes conservative white hate people hate knows dont hate\n",
      "Topic 17:\n",
      "country group world hate immigrants hate group bring legal white country failed oppose law lgbt shes defend poverty equality policies gas illegal immigrants charge record pill obviously center labor waiting vile slaves migrants\n",
      "Topic 18:\n",
      "immigration great way got wont family used mass things change govt male stay university massive delhi pay white male judge friend land msm close potus allow sweden anymore spread republican inside\n",
      "Topic 19:\n",
      "new americans life altright rt milo calling check leave white americans book noamnesty speaking discuss obamas voters outside students washington morning office cuts mt knew afire radio dc enjoy joins gender\n",
      "Topic 20:\n",
      "white whites house supremacy white house white supremacy free nationalists white nationalists speech rally amnesty wants welcome allowed important safe ethnic middle ban line church exist peaceful non whites families giving east rubio millions\n",
      "Topic 21:\n",
      "fair hunter known lead wallace dark moore sell hunter wallace aclu burning wrote whites dont doj rapist um roots fair racist cotton romney hill graham unfair click explosion harder kushner brussels lindsey disaffected\n",
      "Topic 22:\n",
      "want make support dont lets terrorists dont want white case send mexico try cultural using borders cut single parents males communist make america canada dear views ugly tells votes white males doubt cross\n",
      "Topic 23:\n",
      "right alt alt right kkk left movement charlottesville gop far cucks run maga prolife probably tell marriage cuckservative numbers funny supreme common picture texas supreme court abortions nazi leftists sense argument scotus\n",
      "Topic 24:\n",
      "come nation nations hear germans seriously alive food unite enemies want kill mosque everybody break level muhammad pretending white nation white nations bigger irrelevant christ need white thats white insane egypt daughter bringing white lol possibly\n",
      "Topic 25:\n",
      "black white people man jewish theyre black people real white man believe black white ppl mean privilege evil kill white privilege killed thanks proud hey agree say black man lot ago cops white black youre white turn\n",
      "Topic 26:\n",
      "white minority aryan looking simple want white whitepride quite shirt resistance white resister resister study status videos swastika aryan race white aryan weak racist just beasts ns shirt white bbc invaded context preserving teens gathering wonderful\n",
      "Topic 27:\n",
      "holocaust terrorism green easily accused tho greed blamed 25 worlds prayer survivor marxists libtards holocaust survivor tyranny understood appeals 55 jailed lone questioning forum en antimuslim jewish holocaust hint judicial cultural marxists criticizing\n",
      "Topic 28:\n",
      "anti white anti white islamic maybe class article white racist follow learn play terror democrat anti racist openly marxist globalist islamic state dream teach lazy auschwitz lincoln jokes white anti code fascist abt loving comment\n",
      "Topic 29:\n",
      "watch plan instead wake questions hero jihadists secret author king doctrine friendly murderers conspiracy excellent activism theory wake white fox news ignores admits reich blocks nfl camps separatist revealed taliban islamic jihadists subhuman\n",
      "Topic 30:\n",
      "youre pro news true president today white pro white comments debate liberals lies message happen holocaust debate comments news debate comments imagine holocaust deal wpww traitor shows berkeley thinking media white liberals fucking mark current\n",
      "Topic 31:\n",
      "usa isis fact terrorist ideology supports supporting correct victims short corporate retweeted demand honor golden literally member works solution wakeup pakistan ows purge australia supported wear nrx patriotic revolution white\n",
      "Topic 32:\n",
      "national hindus ill ur child living shame socialism eyes murdered bc national socialism hand hindu zionist value special able central socialists movie national review putting guard forces sexually air round acceptable national socialists\n",
      "Topic 33:\n",
      "eat scared include disease drive blah swamp est bread cars changing blah blah culturally criticism declining white bread scared white thanksgiving just people park cair mexican black woman spreading hate white crimes sad white boys divided stand people support\n",
      "Topic 34:\n",
      "im thats sure going isnt freedom help open dead im sure funding defending union event general longer isnt white plenty alliance native assault open borders block pretty sure tweets make sure eu building dead white ya\n",
      "Topic 35:\n",
      "stupid pl poor working crime twitter white leaders female meet cm working class democracy town rallies white crime white working advocacy stupid white page communities certainly feed stories blacklivesmatter white advocacy ignorance usually link silent\n",
      "Topic 36:\n",
      "better work optics ive job seen heard defundpp student list red ca dog demands huh sleep projectsiege health immediately walk faster core white student taxpayer yo good job ethnicity idiotic speeches update\n",
      "Topic 37:\n",
      "live day wall religion away modi ones pm build ancestors 3rd attacking tweet blue rise humanity straight london 3rd world innocent youve minister piece build wall chief narendra total research greater todays\n",
      "Topic 38:\n",
      "power cities white face sanctuary white power nice force sanctuary cities following hide rules aryans detroit forward song highest brothers freak forever opposing wave civilisation price black power moron percentage prepare moon crack\n",
      "Topic 39:\n",
      "british hatred thousands example 13 michael later mistake imam white british 84 kingdom interracial copenhagen wanted criminals 84 wanted copenhagen non criminals copenhagen 32 stops flynn smell faced tens hatred white white people time brutal destroyed way racist\n",
      "Topic 40:\n",
      "white know non islam muslims supremacist white supremacist non white state called racism liberal doing kill means protest times racists races kill kill britain raped order civilization mind facts york activists immigrant elder\n",
      "Topic 41:\n",
      "white kill jews muslim women men read tcot nationalist says white nationalist history white men jihad gay video long trying guy israel problem white women spencer wrong pride rape robert murder white pride jews white\n",
      "Topic 42:\n",
      "white people white people genocide im lol nationalism white genocide arent children culture human im white white nationalism whitegenocide government america white jews democrats socialist kind white white hates americas national socialist daca claims people white sick white children\n",
      "Topic 43:\n",
      "trump cruz southern 10 million cuckservatives russian exactly republicans deserve ted happened ted cruz monuments tv press soros losing establishment killer night clinton election gopdebate youtube accept complete moral age patriots\n",
      "Topic 44:\n",
      "jew law abortion understand laws difference hillary protect fake congress hispanic id dems wife reality gives international earth notice body silence pass alien nt names dont understand telling fake news jump unborn\n",
      "Topic 45:\n",
      "join white klan hood brother forget fellow niggers klux klan klux ku klux ku trust fellow white clan white brother unite brother hood unite ku kkk alive alive white hood unite dont forget sand lansing nigger advance dudes lol white crying\n",
      "Topic 46:\n",
      "dont like people think need say just care kids white die jared issue iq looks 100 people like school act reason guess high wish low like white people dont public dont know taylor blame\n",
      "Topic 47:\n",
      "america white white america germany swrm control color based destroy welfare guilt action white guilt started jews fear invasion north withjewswelose game hating 90 community return finally took 2016 marxism happening minorities\n",
      "Topic 48:\n",
      "india oh indian threat breaking russia biggest china surprised involved space ready apparently add separate putin havent thoughts facebook suspected summit islamists gods poland main hurt demographics language area heritage hate\n",
      "Topic 49:\n",
      "racist bjp cause racist white planned came leader wanted parenthood planned parenthood supporters youre racist voting media organization yall mainstream doesnt people racist went whos im racist racist hate joke defense followers running corrupt makes hell\n"
     ]
    }
   ],
   "source": [
    "from sklearn.feature_extraction.text import TfidfVectorizer, CountVectorizer\n",
    "from sklearn.decomposition import NMF, LatentDirichletAllocation\n",
    "\n",
    "n_features = 5000\n",
    "n_topics = 50\n",
    "n_top_words = 30\n",
    "\n",
    "tfidf_vectorizer = TfidfVectorizer(max_df=0.95, min_df=2, max_features=n_features, stop_words='english', ngram_range=(1, 2))\n",
    "tfidf = tfidf_vectorizer.fit_transform(raw_train_X)\n",
    "tfidf_feature_names = tfidf_vectorizer.get_feature_names()\n",
    "\n",
    "# LDA can only use raw term counts for LDA because it is a probabilistic graphical model\n",
    "tf_vectorizer = CountVectorizer(max_df=0.95, min_df=2, max_features=n_features, stop_words='english', ngram_range=(1, 2))\n",
    "tf = tf_vectorizer.fit_transform(raw_train_X)\n",
    "tf_feature_names = tf_vectorizer.get_feature_names()\n",
    "\n",
    "nmf = NMF(n_components=n_topics, random_state=1, alpha=.1, l1_ratio=.5, init='nndsvd').fit(tfidf)\n",
    "\n",
    "# Run LDA\n",
    "lda = LatentDirichletAllocation(n_components=n_topics, max_iter=5, learning_method='online', learning_offset=50.,random_state=0).fit(tf)\n",
    "\n",
    "def display_topics(model, feature_names, n_top_words):\n",
    "    for topic_idx, topic in enumerate(model.components_):\n",
    "        print(f\"Topic {topic_idx}:\")\n",
    "        print(\" \".join([feature_names[i]\n",
    "                        for i in topic.argsort()[:-n_top_words - 1:-1]]))\n",
    "\n",
    "\n",
    "display_topics(nmf, tfidf_feature_names, n_top_words)\n",
    "print()\n",
    "display_topics(lda, tf_feature_names, n_top_words)"
   ]
  },
  {
   "cell_type": "code",
   "execution_count": 88,
   "metadata": {},
   "outputs": [],
   "source": [
    "def get_model_topics(model, vectorizer, topics, n_top_words=n_top_words):\n",
    "    word_dict = {}\n",
    "    feature_names = vectorizer.get_feature_names()\n",
    "    for topic_idx, topic in enumerate(model.components_):\n",
    "        top_features_ind = topic.argsort()[:-n_top_words - 1:-1]\n",
    "        top_features = [feature_names[i] for i in top_features_ind]\n",
    "        word_dict[topics[topic_idx]] = top_features\n",
    "\n",
    "    return pd.DataFrame(word_dict)"
   ]
  },
  {
   "cell_type": "code",
   "execution_count": 89,
   "metadata": {},
   "outputs": [],
   "source": [
    "def get_inference(model, vectorizer, topics, text, threshold):\n",
    "    v_text = vectorizer.transform([text])\n",
    "    score = model.transform(v_text)\n",
    "\n",
    "    labels = set()\n",
    "    for i in range(len(score[0])):\n",
    "        if score[0][i] > threshold:\n",
    "            labels.add(topics[i])\n",
    "\n",
    "    if not labels:\n",
    "        return 'None', -1, set()\n",
    "\n",
    "    return topics[np.argmax(score)], score, labels"
   ]
  },
  {
   "cell_type": "code",
   "execution_count": 90,
   "metadata": {},
   "outputs": [
    {
     "name": "stdout",
     "output_type": "stream",
     "text": [
      "                 0                1              2            3   \\\n",
      "0             white           people         racist        right   \n",
      "1      white people     white people   racist white          alt   \n",
      "2         privilege     black people   white racist    alt right   \n",
      "3       white white       hate white  people racist  right white   \n",
      "4   white privilege     people white   youre racist         milo   \n",
      "5             trash      people like    racist hate    right alt   \n",
      "6       white trash    people racist         called         said   \n",
      "7             pride      people hate      im racist         wing   \n",
      "8       white pride      people dont  called racist         left   \n",
      "9      white person            thats  racist racist     alt lite   \n",
      "10            guilt            hates           fair         lite   \n",
      "11              lol      people need          group   right wing   \n",
      "12      white guilt      hates white          makes   right just   \n",
      "13             male          history     hes racist     altright   \n",
      "14         children            point           isnt  white right   \n",
      "15        americans            brown           wall         yeah   \n",
      "16              ppl            arent   racist black     said alt   \n",
      "17            arent              say          thats         cuck   \n",
      "18             isnt              bad    anti racist     movement   \n",
      "19       white male          killing            hes          far   \n",
      "20         american     people arent   black racist          yes   \n",
      "21  white americans          racists           said         guys   \n",
      "22   white children  american people   makes racist         used   \n",
      "23             mean            doing  racist people        thats   \n",
      "24            crime           killed        bigoted       bannon   \n",
      "25           person           fellow          guess         real   \n",
      "26      black white          problem   thats racist      protest   \n",
      "27              new          culture            wow        going   \n",
      "28           blacks             come         saying          win   \n",
      "29        white ppl            going           word      disavow   \n",
      "\n",
      "                  4             5              6                 7   \\\n",
      "0              black          hate           race              anti   \n",
      "1       black people         group     white race        anti white   \n",
      "2        black white    hate group          white             white   \n",
      "3        white black    hate white       race war       anti racist   \n",
      "4          black man    hate crime            war        white hate   \n",
      "5              crime   people hate     human race              code   \n",
      "6             people         crime        history        white anti   \n",
      "7             person   racist hate          human        propaganda   \n",
      "8       black person    white hate    race mixing            racism   \n",
      "9                guy     hate hate         mixing       racist anti   \n",
      "10        hate black     dont hate     race white       racist code   \n",
      "11      racist black   hate people          aryan      white racist   \n",
      "12        difference          fair       superior         code word   \n",
      "13          im black   hate whites           isnt         just anti   \n",
      "14       white crime   hate speech           love          say anti   \n",
      "15         black guy    hate black     aryan race              word   \n",
      "16       black black   hate groups         saving      white racism   \n",
      "17      black racist        groups        survive     anti semitism   \n",
      "18             whats        speech         future          semitism   \n",
      "19  difference black          splc          wants         stop anti   \n",
      "20       black lives  hate america    people race  white propaganda   \n",
      "21             asian          love     mixed race            agenda   \n",
      "22         black men   hate crimes       greatest            jewish   \n",
      "23              girl        crimes        amazing         word anti   \n",
      "24               say      heritage          mixed               say   \n",
      "25          violence          stop        harvard      white agenda   \n",
      "26  whats difference        really          david              stop   \n",
      "27           murders       islamic         doesnt             video   \n",
      "28              race        muslim  race superior     anti american   \n",
      "29       communities         jihad       preserve       anti racism   \n",
      "\n",
      "             8               9   ...             40             41  \\\n",
      "0          like           house  ...           make          lives   \n",
      "1   people like     white house  ...          great         matter   \n",
      "2    like white           white  ...   make america   lives matter   \n",
      "3         looks     immigration  ...     make white    white lives   \n",
      "4    looks like          muslim  ...      make sure    black lives   \n",
      "5     look like            tcot  ...    doesnt make  doesnt matter   \n",
      "6          look           obama  ...         doesnt          rally   \n",
      "7     just like    muslim white  ...      dont make    dont matter   \n",
      "8     dont like          secure  ...          sense          black   \n",
      "9        people           rally  ...  america white            say   \n",
      "10        sound       noamnesty  ...    people make         doesnt   \n",
      "11   sound like   outside white  ...  america great      say white   \n",
      "12         guys          market  ...     make sense        message   \n",
      "13  sounds like        briefing  ...           look            blm   \n",
      "14       sounds         outside  ...      want make           said   \n",
      "15       really          border  ...      does make           joke   \n",
      "16  like people     trump white  ...      look like        rallies   \n",
      "17       better             cia  ...    trying make         boomer   \n",
      "18           id     house press  ...            bjp             uh   \n",
      "19          act  press briefing  ...          going           wont   \n",
      "20       things            gets  ...           does      important   \n",
      "21  racist like           smart  ...    make racist           guys   \n",
      "22  like antifa          russia  ...      just make            cop   \n",
      "23         come   wakeupamerica  ...         better     love white   \n",
      "24     act like        17 white  ...         trying           lies   \n",
      "25      believe           press  ...         babies       happened   \n",
      "26        trash         prolife  ...           lose           bans   \n",
      "27          god       announces  ...           lets           says   \n",
      "28          big           faith  ...           case     said white   \n",
      "29         life            meet  ...           wont          chant   \n",
      "\n",
      "                    42             43                44           45  \\\n",
      "0         nationalists           want             media        power   \n",
      "1   white nationalists      dont want            social  white power   \n",
      "2                white     want white      social media  power white   \n",
      "3   nationalists white      want kill            jewish  black power   \n",
      "4          trump white    people want        mainstream   join white   \n",
      "5            tennessee    doesnt want  mainstream media        white   \n",
      "6          right white      just want      jewish media         join   \n",
      "7      stockholm video     white want           control         guys   \n",
      "8            stockholm         doesnt        news media        proud   \n",
      "9              created   want america        controlled     brothers   \n",
      "10                free      hate want              fake      colours   \n",
      "11               nazis      jews want        mass media         away   \n",
      "12             swedish           live         reporting          fam   \n",
      "13             similar        estonia          altright          fyi   \n",
      "14            campaign           care           outlets         pick   \n",
      "15     charlottesville      want make             tells          war   \n",
      "16                 ban            die              mass         goes   \n",
      "17         free speech        country          coverage   real white   \n",
      "18          opposition      want live              lies         baby   \n",
      "19                went          bring             rebel        agree   \n",
      "20               march  white country             wrong         nice   \n",
      "21               video    really want       white media       leader   \n",
      "22            nonsense        believe              real         real   \n",
      "23              senate         people              talk      georgia   \n",
      "24               greek        freedom              care     race war   \n",
      "25                swrm     government            threat        storm   \n",
      "26            platform     assimilate     establishment       optics   \n",
      "27                isnt          start             shows   represents   \n",
      "28          whitepower         sharia              news         seen   \n",
      "29             website            say         fake news         read   \n",
      "\n",
      "                46                47               48            49  \n",
      "0            women           muslims              pro           did  \n",
      "1      white women      muslims kill        pro white        hitler  \n",
      "2             rape        christians         pro life     did white  \n",
      "3       rape white             india             life         adolf  \n",
      "4    women america      kill muslims        white pro  adolf hitler  \n",
      "5        men women           myjihad       white anti           say  \n",
      "6    racial murder      muslims hate           choice      did know  \n",
      "7      murder rape            hindus       explicitly         today  \n",
      "8            great     muslims white            white          hear  \n",
      "9             love      hate muslims   white movement       germany  \n",
      "10     duke racial            deport         movement       did say  \n",
      "11          murder            coming  white activists           lol  \n",
      "12      david duke     islam muslims      white media           911  \n",
      "13          racial        terrorists             guys    people did  \n",
      "14            duke       non muslims         abortion       did 911  \n",
      "15           raped  white christians        activists          miss  \n",
      "16           david             jihad     white groups        israel  \n",
      "17             men               bjp         argument        really  \n",
      "18     great white      muslims dont          hateful      like did  \n",
      "19     women speak         commanded           optics          guys  \n",
      "20          rights            muslim           groups          girl  \n",
      "21          raping           problem            posts        expect  \n",
      "22           night           islamic           doesnt           kid  \n",
      "23     black women                uk         american      actually  \n",
      "24       black men              stop             care      sure did  \n",
      "25     speak white          deported            truth        friend  \n",
      "26          muslim     myjihad islam          account          read  \n",
      "27  genocide video               law          believe      berkeley  \n",
      "28           video              wont          ashamed      birthday  \n",
      "29           girls            filthy             gets       anybody  \n",
      "\n",
      "[30 rows x 50 columns]\n",
      "27 [[0.         0.         0.         0.         0.         0.\n",
      "  0.         0.         0.         0.         0.         0.\n",
      "  0.         0.         0.         0.         0.         0.\n",
      "  0.         0.         0.         0.         0.         0.\n",
      "  0.         0.         0.         0.08710695 0.         0.00080293\n",
      "  0.         0.         0.         0.         0.         0.\n",
      "  0.00398103 0.         0.         0.         0.         0.\n",
      "  0.         0.         0.         0.         0.         0.\n",
      "  0.         0.        ]]\n",
      "                0             1              2                3   \\\n",
      "0              hes         south            god         european   \n",
      "1            thing           did        talking        christian   \n",
      "2           racial           let          thank              old   \n",
      "3            didnt           end          faith             year   \n",
      "4            white         money          jesus            white   \n",
      "5             vote        africa          peace             girl   \n",
      "6         violence     political          wasnt              boy   \n",
      "7             told            uk            bet            brown   \n",
      "8         africans         speak          quran            happy   \n",
      "9             past       members        atlanta             days   \n",
      "10          donald         bunch         victim        old white   \n",
      "11           trump  south africa        elected           months   \n",
      "12          latest           tax           step  white christian   \n",
      "13            poll            mr          james               em   \n",
      "14           asked       murders     politician              won   \n",
      "15              12          lose      beginning         year old   \n",
      "16            mans        league           damn          suicide   \n",
      "17     white south          sign      referring             arab   \n",
      "18          modern         syria           plus        including   \n",
      "19         century      problems  talking white        white boy   \n",
      "20             cnn         ideas          bless            arabs   \n",
      "21           south        review         points        christmas   \n",
      "22      white mans           war       crackers         racially   \n",
      "23    donald trump       website        capital               la   \n",
      "24  south africans        street    think youre          worship   \n",
      "25          judges  league south      thank god          suspect   \n",
      "26       hes white          rate       creative          swedish   \n",
      "27           large       alabama             tn          la raza   \n",
      "28      hes racist          grow          akbar             raza   \n",
      "29             fox           911  revolutionary     brown people   \n",
      "\n",
      "                4             5                 6                   7   \\\n",
      "0             good        rights          renegade               white   \n",
      "1              bad      refugees           chicken        supremacists   \n",
      "2             hope       wouldnt         good news              blacks   \n",
      "3             best      continue                tf  white supremacists   \n",
      "4            court       federal      come america              person   \n",
      "5           course          john      scared white              police   \n",
      "6           report          shut            holder              attack   \n",
      "7              big      attacked            google               stand   \n",
      "8             save         idiot             rapes                  ok   \n",
      "9           having         civil           central               trash   \n",
      "10      california        listen      faith family               fight   \n",
      "11           throw        thinks           soldier               nazis   \n",
      "12        business            th      institutions               sorry   \n",
      "13         foreign      invaders         does make            majority   \n",
      "14          policy        paying                hv              pretty   \n",
      "15              15  civil rights      preservation           diversity   \n",
      "16           takes         taxes                32                word   \n",
      "17        internet         silly          vs white        white person   \n",
      "18        original     candidate              rape          population   \n",
      "19         realist        allies            choose             mexican   \n",
      "20           voted           pic            humane                 wow   \n",
      "21      considered      memorial         hand hand         white trash   \n",
      "22         account          kick  holocaust debate          propaganda   \n",
      "23           white        divide               god                west   \n",
      "24         workers  human rights             reach              sharia   \n",
      "25            wars         dutch            lately               adolf   \n",
      "26             sin          quit         incapable                baby   \n",
      "27  realist report          park            sanger                  20   \n",
      "28       interview     amendment          involved                okay   \n",
      "29           bihar        pastor            faggot               words   \n",
      "\n",
      "                  8                      9   ...                 40  \\\n",
      "0               cuck                letting  ...              white   \n",
      "1             german                   marg  ...               know   \n",
      "2         christians         overpopulation  ...                non   \n",
      "3             social            black folks  ...              islam   \n",
      "4              place           police state  ...            muslims   \n",
      "5             taking                 idiocy  ...        supremacist   \n",
      "6              media                 strict  ...  white supremacist   \n",
      "7            attacks                cruelty  ...          non white   \n",
      "8              built                   sure  ...              state   \n",
      "9               city                   tell  ...             called   \n",
      "10          evidence                  brave  ...             racism   \n",
      "11              wing                 racist  ...            liberal   \n",
      "12           justice                  going  ...              doing   \n",
      "13      social media                     im  ...               kill   \n",
      "14           refugee                im sure  ...              means   \n",
      "15           trucons                     op  ...            protest   \n",
      "16  white christians                  write  ...              times   \n",
      "17              base                    000  ...            racists   \n",
      "18            crisis              principle  ...              races   \n",
      "19           leading  political correctness  ...          kill kill   \n",
      "20           decades                 charge  ...            britain   \n",
      "21             fired                   cute  ...              raped   \n",
      "22        right wing                 colour  ...              order   \n",
      "23           israeli                threats  ...       civilization   \n",
      "24          official                   shot  ...               mind   \n",
      "25            merkel            white makes  ...              facts   \n",
      "26           private            people love  ...               york   \n",
      "27          soldiers               arkansas  ...          activists   \n",
      "28              near            white south  ...          immigrant   \n",
      "29            events                skinned  ...              elder   \n",
      "\n",
      "                   41                  42              43               44  \\\n",
      "0               white               white           trump              jew   \n",
      "1                kill              people            cruz              law   \n",
      "2                jews        white people        southern         abortion   \n",
      "3              muslim            genocide              10       understand   \n",
      "4               women                  im         million             laws   \n",
      "5                 men                 lol  cuckservatives       difference   \n",
      "6                read         nationalism         russian          hillary   \n",
      "7                tcot      white genocide         exactly          protect   \n",
      "8         nationalist               arent     republicans             fake   \n",
      "9                says            children         deserve         congress   \n",
      "10  white nationalist             culture             ted         hispanic   \n",
      "11            history               human        happened               id   \n",
      "12          white men            im white        ted cruz             dems   \n",
      "13              jihad   white nationalism       monuments             wife   \n",
      "14                gay       whitegenocide              tv          reality   \n",
      "15              video          government           press            gives   \n",
      "16               long       america white           soros    international   \n",
      "17             trying                jews          losing            earth   \n",
      "18                guy           democrats   establishment           notice   \n",
      "19             israel           socialist          killer             body   \n",
      "20            problem                kind           night          silence   \n",
      "21        white women         white white         clinton             pass   \n",
      "22            spencer               hates        election            alien   \n",
      "23              wrong            americas       gopdebate               nt   \n",
      "24              pride  national socialist         youtube            names   \n",
      "25               rape                daca          accept  dont understand   \n",
      "26             robert              claims        complete          telling   \n",
      "27             murder        people white           moral        fake news   \n",
      "28        white pride                sick             age             jump   \n",
      "29         jews white      white children        patriots           unborn   \n",
      "\n",
      "               45           46              47             48  \\\n",
      "0            join         dont         america          india   \n",
      "1           white         like           white             oh   \n",
      "2            klan       people   white america         indian   \n",
      "3            hood        think         germany         threat   \n",
      "4         brother         need            swrm       breaking   \n",
      "5          forget          say         control         russia   \n",
      "6          fellow         just           color        biggest   \n",
      "7         niggers         care           based          china   \n",
      "8       klux klan         kids         destroy      surprised   \n",
      "9            klux        white         welfare       involved   \n",
      "10        ku klux          die           guilt          space   \n",
      "11             ku        jared          action          ready   \n",
      "12          trust        issue     white guilt     apparently   \n",
      "13   fellow white           iq         started            add   \n",
      "14           clan        looks            jews       separate   \n",
      "15  white brother          100            fear          putin   \n",
      "16          unite  people like        invasion         havent   \n",
      "17   brother hood       school           north       thoughts   \n",
      "18       unite ku          act  withjewswelose       facebook   \n",
      "19      kkk alive       reason            game      suspected   \n",
      "20    alive white        guess          hating         summit   \n",
      "21     hood unite         high              90      islamists   \n",
      "22    dont forget         wish       community           gods   \n",
      "23           sand          low          return         poland   \n",
      "24        lansing   like white         finally           main   \n",
      "25         nigger  people dont            took           hurt   \n",
      "26        advance       public            2016   demographics   \n",
      "27          dudes    dont know         marxism       language   \n",
      "28      lol white       taylor       happening           area   \n",
      "29         crying        blame      minorities  heritage hate   \n",
      "\n",
      "                    49  \n",
      "0               racist  \n",
      "1                  bjp  \n",
      "2                cause  \n",
      "3         racist white  \n",
      "4              planned  \n",
      "5                 came  \n",
      "6               leader  \n",
      "7               wanted  \n",
      "8           parenthood  \n",
      "9   planned parenthood  \n",
      "10          supporters  \n",
      "11        youre racist  \n",
      "12              voting  \n",
      "13               media  \n",
      "14        organization  \n",
      "15                yall  \n",
      "16          mainstream  \n",
      "17              doesnt  \n",
      "18       people racist  \n",
      "19                went  \n",
      "20                whos  \n",
      "21           im racist  \n",
      "22         racist hate  \n",
      "23                joke  \n",
      "24             defense  \n",
      "25           followers  \n",
      "26             running  \n",
      "27             corrupt  \n",
      "28               makes  \n",
      "29                hell  \n",
      "\n",
      "[30 rows x 50 columns]\n",
      "44 [[0.004 0.004 0.004 0.004 0.004 0.004 0.004 0.004 0.004 0.004 0.004 0.204\n",
      "  0.004 0.004 0.004 0.004 0.004 0.204 0.004 0.004 0.004 0.004 0.004 0.004\n",
      "  0.004 0.004 0.004 0.004 0.004 0.004 0.204 0.004 0.004 0.004 0.004 0.004\n",
      "  0.004 0.004 0.004 0.004 0.004 0.004 0.004 0.004 0.204 0.004 0.004 0.004\n",
      "  0.004 0.004]]\n"
     ]
    },
    {
     "name": "stderr",
     "output_type": "stream",
     "text": [
      "c:\\Users\\Razer\\AppData\\Local\\Programs\\Python\\Python310\\lib\\site-packages\\sklearn\\utils\\deprecation.py:87: FutureWarning: Function get_feature_names is deprecated; get_feature_names is deprecated in 1.0 and will be removed in 1.2. Please use get_feature_names_out instead.\n",
      "  warnings.warn(msg, category=FutureWarning)\n",
      "c:\\Users\\Razer\\AppData\\Local\\Programs\\Python\\Python310\\lib\\site-packages\\sklearn\\decomposition\\_nmf.py:1477: FutureWarning: `alpha` was deprecated in version 1.0 and will be removed in 1.2. Use `alpha_W` and `alpha_H` instead\n",
      "  warnings.warn(\n",
      "c:\\Users\\Razer\\AppData\\Local\\Programs\\Python\\Python310\\lib\\site-packages\\sklearn\\utils\\deprecation.py:87: FutureWarning: Function get_feature_names is deprecated; get_feature_names is deprecated in 1.0 and will be removed in 1.2. Please use get_feature_names_out instead.\n",
      "  warnings.warn(msg, category=FutureWarning)\n"
     ]
    }
   ],
   "source": [
    "text = 'fucking boomer jew kikes are ruining the world'\n",
    "\n",
    "topics = [i for i in range(n_topics)]\n",
    "\n",
    "print(get_model_topics(nmf, tfidf_vectorizer, topics))\n",
    "topic, score, _ = get_inference(nmf, tfidf_vectorizer, topics, text, 0)\n",
    "print(topic, score)\n",
    "\n",
    "print(get_model_topics(lda, tf_vectorizer, topics))\n",
    "topic, score, _ = get_inference(lda, tf_vectorizer, topics, text, 0)\n",
    "print(topic, score)"
   ]
  },
  {
   "cell_type": "code",
   "execution_count": 92,
   "metadata": {},
   "outputs": [],
   "source": [
    "def rfc_train(vectorizer, model, X, y):\n",
    "    vectorized = vectorizer.transform(X)\n",
    "    score = model.transform(vectorized)\n",
    "    rfc = RandomForestClassifier(n_estimators=300, max_features=11).fit(score, y)\n",
    "    y_pred = rfc.predict(score)\n",
    "    stats(y, y_pred)\n",
    "    return y_pred"
   ]
  },
  {
   "cell_type": "code",
   "execution_count": 93,
   "metadata": {},
   "outputs": [
    {
     "name": "stderr",
     "output_type": "stream",
     "text": [
      "c:\\Users\\Razer\\AppData\\Local\\Programs\\Python\\Python310\\lib\\site-packages\\sklearn\\decomposition\\_nmf.py:1477: FutureWarning: `alpha` was deprecated in version 1.0 and will be removed in 1.2. Use `alpha_W` and `alpha_H` instead\n",
      "  warnings.warn(\n"
     ]
    },
    {
     "name": "stdout",
     "output_type": "stream",
     "text": [
      "Accuracy: 0.9528631284916201\n",
      "Confusion Matrix: {(0, 0): 10582, (0, 1): 51, (1, 0): 759, (1, 1): 5792}\n",
      "F1 Score: 0.9346457963530741\n",
      "\n",
      "[1 0 1 ... 1 1 0]\n",
      "Accuracy: 0.9827746741154563\n",
      "Confusion Matrix: {(0, 0): 10534, (0, 1): 99, (1, 0): 197, (1, 1): 6354}\n",
      "F1 Score: 0.9772377729929252\n",
      "\n",
      "[1 0 1 ... 1 1 0]\n"
     ]
    }
   ],
   "source": [
    "nmf_pred = rfc_train(tfidf_vectorizer, nmf, raw_train_X, raw_train_y)\n",
    "lda_pred = rfc_train(tf_vectorizer, lda, raw_train_X, raw_train_y)\n",
    "\n",
    "write_submission_file(\"nmf_pred.csv\", raw_test_ids, nmf_pred)\n",
    "write_submission_file(\"lda_pred.csv\", raw_test_ids, lda_pred)"
   ]
  },
  {
   "cell_type": "code",
   "execution_count": 94,
   "metadata": {},
   "outputs": [
    {
     "name": "stdout",
     "output_type": "stream",
     "text": [
      "Percentage Match: 0.5872905027932961\n",
      "Percentage Match: 0.5723929236499069\n"
     ]
    }
   ],
   "source": [
    "compare_predictions(\"predictions/rand_for_pred_11_feat_300_est.csv\", \"predictions/nmf_pred.csv\")\n",
    "compare_predictions(\"predictions/rand_for_pred_11_feat_300_est.csv\", \"predictions/lda_pred.csv\")"
   ]
  },
  {
   "cell_type": "code",
   "execution_count": 95,
   "metadata": {},
   "outputs": [
    {
     "name": "stdout",
     "output_type": "stream",
     "text": [
      "Accuracy: 0.7767690875232774\n",
      "Confusion Matrix: {(0, 0): 9623, (0, 1): 1010, (1, 0): 2826, (1, 1): 3725}\n",
      "F1 Score: 0.6601098706361864\n",
      "\n"
     ]
    }
   ],
   "source": [
    "from sklearn.ensemble import HistGradientBoostingClassifier\n",
    "\n",
    "hgbc = HistGradientBoostingClassifier().fit(train_X, train_y)\n",
    "stats(train_y, hgbc.predict(train_X))"
   ]
  },
  {
   "cell_type": "code",
   "execution_count": 96,
   "metadata": {},
   "outputs": [
    {
     "ename": "NotFittedError",
     "evalue": "This ExtraTreesClassifier instance is not fitted yet. Call 'fit' with appropriate arguments before using this estimator.",
     "output_type": "error",
     "traceback": [
      "\u001b[1;31m---------------------------------------------------------------------------\u001b[0m",
      "\u001b[1;31mNotFittedError\u001b[0m                            Traceback (most recent call last)",
      "\u001b[1;32mc:\\Users\\Razer\\Documents\\GitHub\\50007-project\\ml_proj.ipynb Cell 45'\u001b[0m in \u001b[0;36m<cell line: 6>\u001b[1;34m()\u001b[0m\n\u001b[0;32m      <a href='vscode-notebook-cell:/c%3A/Users/Razer/Documents/GitHub/50007-project/ml_proj.ipynb#ch0000058?line=3'>4</a>\u001b[0m etc \u001b[39m=\u001b[39m ExtraTreesClassifier(n_estimators\u001b[39m=\u001b[39m\u001b[39m300\u001b[39m, max_depth\u001b[39m=\u001b[39m\u001b[39mNone\u001b[39;00m, min_samples_split\u001b[39m=\u001b[39m\u001b[39m2\u001b[39m, random_state\u001b[39m=\u001b[39m\u001b[39m0\u001b[39m)\n\u001b[0;32m      <a href='vscode-notebook-cell:/c%3A/Users/Razer/Documents/GitHub/50007-project/ml_proj.ipynb#ch0000058?line=4'>5</a>\u001b[0m scores \u001b[39m=\u001b[39m cross_val_score(etc, train_X ,train_y, cv\u001b[39m=\u001b[39m\u001b[39m5\u001b[39m)\n\u001b[1;32m----> <a href='vscode-notebook-cell:/c%3A/Users/Razer/Documents/GitHub/50007-project/ml_proj.ipynb#ch0000058?line=5'>6</a>\u001b[0m stats(train_y, etc\u001b[39m.\u001b[39;49mpredict(train_X))\n",
      "File \u001b[1;32mc:\\Users\\Razer\\AppData\\Local\\Programs\\Python\\Python310\\lib\\site-packages\\sklearn\\ensemble\\_forest.py:832\u001b[0m, in \u001b[0;36mForestClassifier.predict\u001b[1;34m(self, X)\u001b[0m\n\u001b[0;32m    811\u001b[0m \u001b[39mdef\u001b[39;00m \u001b[39mpredict\u001b[39m(\u001b[39mself\u001b[39m, X):\n\u001b[0;32m    812\u001b[0m     \u001b[39m\"\"\"\u001b[39;00m\n\u001b[0;32m    813\u001b[0m \u001b[39m    Predict class for X.\u001b[39;00m\n\u001b[0;32m    814\u001b[0m \n\u001b[1;32m   (...)\u001b[0m\n\u001b[0;32m    830\u001b[0m \u001b[39m        The predicted classes.\u001b[39;00m\n\u001b[0;32m    831\u001b[0m \u001b[39m    \"\"\"\u001b[39;00m\n\u001b[1;32m--> 832\u001b[0m     proba \u001b[39m=\u001b[39m \u001b[39mself\u001b[39;49m\u001b[39m.\u001b[39;49mpredict_proba(X)\n\u001b[0;32m    834\u001b[0m     \u001b[39mif\u001b[39;00m \u001b[39mself\u001b[39m\u001b[39m.\u001b[39mn_outputs_ \u001b[39m==\u001b[39m \u001b[39m1\u001b[39m:\n\u001b[0;32m    835\u001b[0m         \u001b[39mreturn\u001b[39;00m \u001b[39mself\u001b[39m\u001b[39m.\u001b[39mclasses_\u001b[39m.\u001b[39mtake(np\u001b[39m.\u001b[39margmax(proba, axis\u001b[39m=\u001b[39m\u001b[39m1\u001b[39m), axis\u001b[39m=\u001b[39m\u001b[39m0\u001b[39m)\n",
      "File \u001b[1;32mc:\\Users\\Razer\\AppData\\Local\\Programs\\Python\\Python310\\lib\\site-packages\\sklearn\\ensemble\\_forest.py:872\u001b[0m, in \u001b[0;36mForestClassifier.predict_proba\u001b[1;34m(self, X)\u001b[0m\n\u001b[0;32m    850\u001b[0m \u001b[39mdef\u001b[39;00m \u001b[39mpredict_proba\u001b[39m(\u001b[39mself\u001b[39m, X):\n\u001b[0;32m    851\u001b[0m     \u001b[39m\"\"\"\u001b[39;00m\n\u001b[0;32m    852\u001b[0m \u001b[39m    Predict class probabilities for X.\u001b[39;00m\n\u001b[0;32m    853\u001b[0m \n\u001b[1;32m   (...)\u001b[0m\n\u001b[0;32m    870\u001b[0m \u001b[39m        classes corresponds to that in the attribute :term:`classes_`.\u001b[39;00m\n\u001b[0;32m    871\u001b[0m \u001b[39m    \"\"\"\u001b[39;00m\n\u001b[1;32m--> 872\u001b[0m     check_is_fitted(\u001b[39mself\u001b[39;49m)\n\u001b[0;32m    873\u001b[0m     \u001b[39m# Check data\u001b[39;00m\n\u001b[0;32m    874\u001b[0m     X \u001b[39m=\u001b[39m \u001b[39mself\u001b[39m\u001b[39m.\u001b[39m_validate_X_predict(X)\n",
      "File \u001b[1;32mc:\\Users\\Razer\\AppData\\Local\\Programs\\Python\\Python310\\lib\\site-packages\\sklearn\\utils\\validation.py:1345\u001b[0m, in \u001b[0;36mcheck_is_fitted\u001b[1;34m(estimator, attributes, msg, all_or_any)\u001b[0m\n\u001b[0;32m   1340\u001b[0m     fitted \u001b[39m=\u001b[39m [\n\u001b[0;32m   1341\u001b[0m         v \u001b[39mfor\u001b[39;00m v \u001b[39min\u001b[39;00m \u001b[39mvars\u001b[39m(estimator) \u001b[39mif\u001b[39;00m v\u001b[39m.\u001b[39mendswith(\u001b[39m\"\u001b[39m\u001b[39m_\u001b[39m\u001b[39m\"\u001b[39m) \u001b[39mand\u001b[39;00m \u001b[39mnot\u001b[39;00m v\u001b[39m.\u001b[39mstartswith(\u001b[39m\"\u001b[39m\u001b[39m__\u001b[39m\u001b[39m\"\u001b[39m)\n\u001b[0;32m   1342\u001b[0m     ]\n\u001b[0;32m   1344\u001b[0m \u001b[39mif\u001b[39;00m \u001b[39mnot\u001b[39;00m fitted:\n\u001b[1;32m-> 1345\u001b[0m     \u001b[39mraise\u001b[39;00m NotFittedError(msg \u001b[39m%\u001b[39m {\u001b[39m\"\u001b[39m\u001b[39mname\u001b[39m\u001b[39m\"\u001b[39m: \u001b[39mtype\u001b[39m(estimator)\u001b[39m.\u001b[39m\u001b[39m__name__\u001b[39m})\n",
      "\u001b[1;31mNotFittedError\u001b[0m: This ExtraTreesClassifier instance is not fitted yet. Call 'fit' with appropriate arguments before using this estimator."
     ]
    }
   ],
   "source": [
    "from sklearn.ensemble import ExtraTreesClassifier\n",
    "from sklearn.model_selection import cross_val_score\n",
    "\n",
    "etc = ExtraTreesClassifier(n_estimators=300, max_depth=None, min_samples_split=2, random_state=0)\n",
    "scores = cross_val_score(etc, train_X ,train_y, cv=5)\n",
    "stats(train_y, etc.predict(train_X))"
   ]
  },
  {
   "cell_type": "code",
   "execution_count": 101,
   "metadata": {},
   "outputs": [
    {
     "data": {
      "text/plain": [
       "6551"
      ]
     },
     "execution_count": 101,
     "metadata": {},
     "output_type": "execute_result"
    }
   ],
   "source": [
    "np.sum(raw_train_y)"
   ]
  },
  {
   "cell_type": "code",
   "execution_count": 102,
   "metadata": {},
   "outputs": [
    {
     "data": {
      "text/plain": [
       "17184"
      ]
     },
     "execution_count": 102,
     "metadata": {},
     "output_type": "execute_result"
    }
   ],
   "source": [
    "raw_train_y.size"
   ]
  },
  {
   "cell_type": "code",
   "execution_count": 11,
   "metadata": {},
   "outputs": [
    {
     "name": "stdout",
     "output_type": "stream",
     "text": [
      "Fitting 5 folds for each of 150 candidates, totalling 750 fits\n"
     ]
    },
    {
     "ename": "NameError",
     "evalue": "name 'accuracy' is not defined",
     "output_type": "error",
     "traceback": [
      "\u001b[1;31m---------------------------------------------------------------------------\u001b[0m",
      "\u001b[1;31mNameError\u001b[0m                                 Traceback (most recent call last)",
      "\u001b[1;32mc:\\Users\\Razer\\Documents\\GitHub\\50007-project\\ml_proj.ipynb Cell 48'\u001b[0m in \u001b[0;36m<cell line: 24>\u001b[1;34m()\u001b[0m\n\u001b[0;32m     <a href='vscode-notebook-cell:/c%3A/Users/Razer/Documents/GitHub/50007-project/ml_proj.ipynb#ch0000048?line=20'>21</a>\u001b[0m \u001b[39m# Fit on data\u001b[39;00m\n\u001b[0;32m     <a href='vscode-notebook-cell:/c%3A/Users/Razer/Documents/GitHub/50007-project/ml_proj.ipynb#ch0000048?line=22'>23</a>\u001b[0m best_clf \u001b[39m=\u001b[39m clf\u001b[39m.\u001b[39mfit(train_X, train_y)\n\u001b[1;32m---> <a href='vscode-notebook-cell:/c%3A/Users/Razer/Documents/GitHub/50007-project/ml_proj.ipynb#ch0000048?line=23'>24</a>\u001b[0m stats(train_y, best_clf\u001b[39m.\u001b[39;49mpredict(train_X))\n",
      "\u001b[1;32mc:\\Users\\Razer\\Documents\\GitHub\\50007-project\\ml_proj.ipynb Cell 5'\u001b[0m in \u001b[0;36mstats\u001b[1;34m(y, y_pred)\u001b[0m\n\u001b[0;32m      <a href='vscode-notebook-cell:/c%3A/Users/Razer/Documents/GitHub/50007-project/ml_proj.ipynb#ch0000004?line=0'>1</a>\u001b[0m \u001b[39mdef\u001b[39;00m \u001b[39mstats\u001b[39m(y, y_pred):\n\u001b[1;32m----> <a href='vscode-notebook-cell:/c%3A/Users/Razer/Documents/GitHub/50007-project/ml_proj.ipynb#ch0000004?line=1'>2</a>\u001b[0m     \u001b[39mprint\u001b[39m(\u001b[39mf\u001b[39m\u001b[39m\"\u001b[39m\u001b[39mAccuracy: \u001b[39m\u001b[39m{\u001b[39;00maccuracy(y, y_pred)\u001b[39m}\u001b[39;00m\u001b[39m\"\u001b[39m)\n\u001b[0;32m      <a href='vscode-notebook-cell:/c%3A/Users/Razer/Documents/GitHub/50007-project/ml_proj.ipynb#ch0000004?line=2'>3</a>\u001b[0m     \u001b[39mprint\u001b[39m(\u001b[39mf\u001b[39m\u001b[39m\"\u001b[39m\u001b[39mConfusion Matrix: \u001b[39m\u001b[39m{\u001b[39;00mconfusion_matrix(y, y_pred, [\u001b[39m0\u001b[39m, \u001b[39m1\u001b[39m])\u001b[39m}\u001b[39;00m\u001b[39m\"\u001b[39m)\n\u001b[0;32m      <a href='vscode-notebook-cell:/c%3A/Users/Razer/Documents/GitHub/50007-project/ml_proj.ipynb#ch0000004?line=3'>4</a>\u001b[0m     \u001b[39mprint\u001b[39m(\u001b[39mf\u001b[39m\u001b[39m\"\u001b[39m\u001b[39mF1 Score: \u001b[39m\u001b[39m{\u001b[39;00mf1_score(y, y_pred)\u001b[39m}\u001b[39;00m\u001b[39m\"\u001b[39m)\n",
      "\u001b[1;31mNameError\u001b[0m: name 'accuracy' is not defined"
     ]
    }
   ],
   "source": [
    "from sklearn.ensemble import RandomForestClassifier\n",
    "from sklearn.model_selection import GridSearchCV\n",
    "from sklearn.pipeline import Pipeline\n",
    "\n",
    "pipe = Pipeline([('classifier' , RandomForestClassifier())])\n",
    "\n",
    "# Create param grid.\n",
    "\n",
    "param_grid = [\n",
    "    {'classifier' : [RandomForestClassifier()],\n",
    "    'classifier__n_estimators' : list(range(100, 501, 100)),\n",
    "    # 'classifier__criterion' : [\"gini\", \"entropy\", \"log_loss\"],\n",
    "    'classifier__max_depth' : list(range(100, 501, 100)),\n",
    "    'classifier__max_features' : list(range(6,32,5))}\n",
    "]\n",
    "\n",
    "# Create grid search object\n",
    "\n",
    "clf = GridSearchCV(pipe, param_grid = param_grid, cv = 5, verbose=5, n_jobs=5)\n",
    "\n",
    "# Fit on data\n",
    "\n",
    "best_clf = clf.fit(train_X, train_y)\n",
    "stats(train_y, best_clf.predict(train_X))\n"
   ]
  },
  {
   "cell_type": "code",
   "execution_count": 19,
   "metadata": {},
   "outputs": [
    {
     "data": {
      "text/plain": [
       "{'classifier': RandomForestClassifier(max_depth=500, max_features=31, n_estimators=400),\n",
       " 'classifier__max_depth': 500,\n",
       " 'classifier__max_features': 31,\n",
       " 'classifier__n_estimators': 400}"
      ]
     },
     "execution_count": 19,
     "metadata": {},
     "output_type": "execute_result"
    }
   ],
   "source": [
    "clf.best_params_"
   ]
  },
  {
   "cell_type": "code",
   "execution_count": 15,
   "metadata": {},
   "outputs": [
    {
     "name": "stdout",
     "output_type": "stream",
     "text": [
      "Accuracy: 0.9952281191806331\n",
      "Confusion Matrix: {(0, 0): 10607, (0, 1): 26, (1, 0): 56, (1, 1): 6495}\n",
      "F1 Score: 0.9937270501835985\n",
      "\n"
     ]
    }
   ],
   "source": [
    "stats(train_y, best_clf.predict(train_X))"
   ]
  },
  {
   "cell_type": "code",
   "execution_count": 16,
   "metadata": {},
   "outputs": [],
   "source": [
    "import pickle\n",
    "with open(\"models/rand_depth_500_clas.pkl\", \"wb\") as fp:\n",
    "    pickle.dump(clf, fp)"
   ]
  },
  {
   "cell_type": "code",
   "execution_count": 18,
   "metadata": {},
   "outputs": [
    {
     "data": {
      "text/plain": [
       "{'classifier': RandomForestClassifier(max_features=11, n_estimators=300),\n",
       " 'classifier__max_features': 11,\n",
       " 'classifier__n_estimators': 300}"
      ]
     },
     "execution_count": 18,
     "metadata": {},
     "output_type": "execute_result"
    }
   ],
   "source": [
    "with open(\"models/rand_for_clas.pkl\",  \"rb\") as fp:\n",
    "    rf_ori = pickle.load(fp)\n",
    "\n",
    "rf_ori.best_params_"
   ]
  },
  {
   "cell_type": "code",
   "execution_count": 20,
   "metadata": {},
   "outputs": [
    {
     "name": "stdout",
     "output_type": "stream",
     "text": [
      "Accuracy: 0.996566573556797\n",
      "Confusion Matrix: {(0, 0): 10605, (0, 1): 28, (1, 0): 31, (1, 1): 6520}\n",
      "F1 Score: 0.9954958393770517\n",
      "\n"
     ]
    }
   ],
   "source": [
    "stats(train_y, rf_ori.predict(train_X))"
   ]
  },
  {
   "cell_type": "code",
   "execution_count": 51,
   "metadata": {},
   "outputs": [
    {
     "name": "stdout",
     "output_type": "stream",
     "text": [
      "Fitting 5 folds for each of 3 candidates, totalling 15 fits\n",
      "[CV 1/5] END classifier=BaggingClassifier(base_estimator=SVC()), classifier__max_samples=0.3, classifier__n_estimators=200;, score=0.702 total time=235.8min\n",
      "[CV 2/5] END classifier=BaggingClassifier(base_estimator=SVC()), classifier__max_samples=0.3, classifier__n_estimators=200;, score=0.703 total time=232.9min\n"
     ]
    }
   ],
   "source": [
    "from sklearn.model_selection import StratifiedKFold, GridSearchCV\n",
    "from sklearn.ensemble import BaggingClassifier\n",
    "from sklearn.svm import SVC\n",
    "from sklearn.pipeline import Pipeline\n",
    "\n",
    "pipe = Pipeline([('classifier' , BaggingClassifier(base_estimator=SVC()))])\n",
    "\n",
    "# Create param grid.\n",
    "\n",
    "param_grid = [\n",
    "    {'classifier': [BaggingClassifier(base_estimator=SVC())],\n",
    "    'classifier__n_estimators' : list(range(200, 401, 100)),\n",
    "    'classifier__max_samples': [0.3],}\n",
    "]\n",
    "\n",
    "# Create grid search object\n",
    "\n",
    "svc_clf = GridSearchCV(pipe, param_grid = param_grid, cv = 5, verbose=5, n_jobs=1)\n",
    "\n",
    "# Fit on data\n",
    "\n",
    "best_svc_clf = svc_clf.fit(train_X, train_y)\n",
    "stats(train_y, best_svc_clf.predict(train_X))"
   ]
  },
  {
   "cell_type": "code",
   "execution_count": 12,
   "metadata": {},
   "outputs": [],
   "source": [
    "import lightgbm as lgb"
   ]
  },
  {
   "cell_type": "code",
   "execution_count": 20,
   "metadata": {},
   "outputs": [],
   "source": [
    "train_data = lgb.Dataset(train_X, train_y)\n",
    "validation_data = train_data.create_valid(\"validation.svm\")"
   ]
  },
  {
   "cell_type": "code",
   "execution_count": 21,
   "metadata": {},
   "outputs": [],
   "source": [
    "param = {'objective': 'binary', 'num_threads': 6, 'metric': 'auc'}"
   ]
  },
  {
   "cell_type": "code",
   "execution_count": null,
   "metadata": {},
   "outputs": [],
   "source": [
    "num_round = 10\n",
    "bst = lgb.cv(param, train_data, num_round, nfold=5, return_cvbooster=True)\n",
    "bst[\"cvbooster\"]"
   ]
  },
  {
   "cell_type": "code",
   "execution_count": 41,
   "metadata": {},
   "outputs": [
    {
     "data": {
      "text/plain": [
       "[<lightgbm.basic.Booster at 0x13f4e5595a0>,\n",
       " <lightgbm.basic.Booster at 0x13f4e558790>,\n",
       " <lightgbm.basic.Booster at 0x13f4e559690>,\n",
       " <lightgbm.basic.Booster at 0x13f4e558e20>,\n",
       " <lightgbm.basic.Booster at 0x13f4e559600>]"
      ]
     },
     "execution_count": 41,
     "metadata": {},
     "output_type": "execute_result"
    }
   ],
   "source": [
    "\n",
    "bst[\"cvbooster\"].save_model('cvbooster.txt')"
   ]
  },
  {
   "cell_type": "code",
   "execution_count": 25,
   "metadata": {},
   "outputs": [],
   "source": [
    "write_submission_file(\"cvbooster.csv\", test_ids, bst[\"cvbooster\"].predict(test_X))"
   ]
  },
  {
   "cell_type": "code",
   "execution_count": 31,
   "metadata": {},
   "outputs": [
    {
     "data": {
      "text/plain": [
       "(4296, 5000)"
      ]
     },
     "execution_count": 31,
     "metadata": {},
     "output_type": "execute_result"
    }
   ],
   "source": [
    "test_X.shape"
   ]
  },
  {
   "cell_type": "code",
   "execution_count": 35,
   "metadata": {},
   "outputs": [
    {
     "data": {
      "text/plain": [
       "[array([0.32011639, 0.32415046, 0.43063755, ..., 0.48242122, 0.34709913,\n",
       "        0.34393879]),\n",
       " array([0.30049076, 0.41295062, 0.5551555 , ..., 0.45290229, 0.34739948,\n",
       "        0.32306713]),\n",
       " array([0.37302156, 0.42107088, 0.58718151, ..., 0.47339586, 0.33944234,\n",
       "        0.43940837]),\n",
       " array([0.3544085 , 0.31295417, 0.44447193, ..., 0.4429432 , 0.35034369,\n",
       "        0.3983921 ]),\n",
       " array([0.29951201, 0.31023117, 0.55893829, ..., 0.46984629, 0.35834443,\n",
       "        0.37246092])]"
      ]
     },
     "execution_count": 35,
     "metadata": {},
     "output_type": "execute_result"
    }
   ],
   "source": [
    "bst[\"cvbooster\"].predict(test_X, data_has_header=True)"
   ]
  },
  {
   "cell_type": "code",
   "execution_count": 47,
   "metadata": {},
   "outputs": [
    {
     "name": "stdout",
     "output_type": "stream",
     "text": [
      "Fitting 5 folds for each of 60 candidates, totalling 300 fits\n",
      "Accuracy: 0.8129073556797021\n",
      "Confusion Matrix: {(0, 0): 9838, (0, 1): 795, (1, 0): 2420, (1, 1): 4131}\n",
      "F1 Score: 0.7198745316720397\n",
      "\n"
     ]
    }
   ],
   "source": [
    "from lightgbm import LGBMClassifier\n",
    "from sklearn.model_selection import RandomizedSearchCV, GridSearchCV\n",
    "from sklearn.pipeline import Pipeline\n",
    "\n",
    "pipe = Pipeline([('classifier' , LGBMClassifier())])\n",
    "\n",
    "# Create param grid.\n",
    "\n",
    "param_grid = [\n",
    "    {'classifier': [LGBMClassifier()],\n",
    "    'classifier__boosting_type': ['gbdt', 'dart'],\n",
    "    'classifier__n_estimators' : list(range(100, 501, 100)),\n",
    "    'classifier__num_leaves': list(range(31, 532, 100)),\n",
    "    }\n",
    "]\n",
    "\n",
    "# Create grid search object\n",
    "\n",
    "clf = GridSearchCV(pipe, param_grid = param_grid, cv = 5, verbose=5, n_jobs=-1)\n",
    "\n",
    "# Fit on data\n",
    "\n",
    "best_clf = clf.fit(train_X, train_y)\n",
    "stats(train_y, best_clf.predict(train_X))\n"
   ]
  },
  {
   "cell_type": "code",
   "execution_count": 49,
   "metadata": {},
   "outputs": [],
   "source": [
    "write_submission_file(\"lgbm.csv\", test_ids, best_clf.predict(test_X))"
   ]
  },
  {
   "cell_type": "code",
   "execution_count": 48,
   "metadata": {},
   "outputs": [
    {
     "data": {
      "text/plain": [
       "{'classifier': LGBMClassifier(boosting_type='dart', n_estimators=500),\n",
       " 'classifier__boosting_type': 'dart',\n",
       " 'classifier__n_estimators': 500,\n",
       " 'classifier__num_leaves': 31}"
      ]
     },
     "execution_count": 48,
     "metadata": {},
     "output_type": "execute_result"
    }
   ],
   "source": [
    "best_clf.best_params_"
   ]
  },
  {
   "cell_type": "code",
   "execution_count": 25,
   "metadata": {},
   "outputs": [],
   "source": [
    "from optuna.integration import LightGBMPruningCallback\n",
    "import optuna  # pip install optuna\n",
    "from sklearn.metrics import log_loss\n",
    "from sklearn.model_selection import StratifiedKFold\n",
    "import lightgbm as lgbm\n",
    "from warnings import simplefilter\n",
    "\n",
    "simplefilter(\"ignore\", category=RuntimeWarning)\n",
    "simplefilter(\"ignore\", category=UserWarning)\n",
    "\n",
    "def objective(trial, X, y):\n",
    "    param_grid = {\n",
    "        \"n_estimators\": trial.suggest_int(\"n_estimators\", 100, 5000, step=100),\n",
    "        \"learning_rate\": trial.suggest_float(\"learning_rate\", 1e-4, 0.3, log=True),\n",
    "        \"subsample\": trial.suggest_float(\"subsample\", 0.5, 0.9),\n",
    "        \"n_iter_no_change\": 50,\n",
    "        \"max_depth\": trial.suggest_int(\"max_depth\", 3, 15),\n",
    "        # \"num_leaves\": trial.suggest_int(\"num_leaves\", 20, 5000, step=10),\n",
    "        \"boosting\": trial.suggest_categorical(\"boosting\", [\"gbdt\", \"dart\", \"goss\"]),\n",
    "        \"n_jobs\": -1,\n",
    "    }\n",
    "\n",
    "    cv = StratifiedKFold(n_splits=5, shuffle=True, random_state=1121218)\n",
    "\n",
    "    cv_scores = np.empty(5)\n",
    "    for idx, (train_idx, test_idx) in enumerate(cv.split(X, y)):\n",
    "        X_train, X_test = X.iloc[train_idx], X.iloc[test_idx]\n",
    "        y_train, y_test = y.iloc[train_idx], y.iloc[test_idx]\n",
    "\n",
    "        model = lgbm.LGBMClassifier(objective=\"binary\", **param_grid)\n",
    "        model.fit(\n",
    "            X_train,\n",
    "            y_train,\n",
    "            eval_set=[(X_test, y_test)],\n",
    "            eval_metric=\"binary_logloss\",\n",
    "            callbacks=[\n",
    "                LightGBMPruningCallback(trial, \"binary_logloss\")\n",
    "            ],  # Add a pruning callback\n",
    "        )\n",
    "        preds = model.predict_proba(X_test)\n",
    "        cv_scores[idx] = log_loss(y_test, preds)\n",
    "\n",
    "    return np.mean(cv_scores)"
   ]
  },
  {
   "cell_type": "code",
   "execution_count": null,
   "metadata": {},
   "outputs": [],
   "source": [
    "study = optuna.create_study(direction=\"minimize\", study_name=\"LGBM Classifier\")\n",
    "train_X_df = pd.DataFrame(train_X)\n",
    "train_y_df = pd.DataFrame(train_y)\n",
    "\n",
    "func = lambda trial: objective(trial, train_X_df, train_y_df)\n",
    "study.optimize(func, n_trials=100)"
   ]
  },
  {
   "cell_type": "code",
   "execution_count": 34,
   "metadata": {},
   "outputs": [
    {
     "name": "stdout",
     "output_type": "stream",
     "text": [
      "\tBest value (rmse): 0.54913\n",
      "\tBest params:\n",
      "\t\tn_estimators: 1600\n",
      "\t\tlearning_rate: 0.13914440402203732\n",
      "\t\tsubsample: 0.7380911002646962\n",
      "\t\tmax_depth: 15\n",
      "\t\tboosting: gbdt\n"
     ]
    }
   ],
   "source": [
    "print(f\"\\tBest value (rmse): {study.best_value:.5f}\")\n",
    "print(f\"\\tBest params:\")\n",
    "\n",
    "for key, value in study.best_params.items():\n",
    "    print(f\"\\t\\t{key}: {value}\")"
   ]
  },
  {
   "cell_type": "code",
   "execution_count": 35,
   "metadata": {},
   "outputs": [],
   "source": [
    "lgbm_clf = lgbm.LGBMClassifier(objective=\"binary\", **study.best_params).fit(train_X, train_y)"
   ]
  },
  {
   "cell_type": "code",
   "execution_count": 38,
   "metadata": {},
   "outputs": [],
   "source": [
    "write_submission_file(\"lgbm_clf_optuna_100_iter.csv\", test_ids, lgbm_clf.predict(test_X))"
   ]
  },
  {
   "cell_type": "code",
   "execution_count": 41,
   "metadata": {},
   "outputs": [
    {
     "data": {
      "text/plain": [
       "<bound method LGBMModel.get_params of LGBMClassifier(boosting='gbdt', learning_rate=0.13914440402203732, max_depth=15,\n",
       "               n_estimators=1600, objective='binary',\n",
       "               subsample=0.7380911002646962)>"
      ]
     },
     "execution_count": 41,
     "metadata": {},
     "output_type": "execute_result"
    }
   ],
   "source": [
    "lgbm_clf.get_params"
   ]
  },
  {
   "cell_type": "code",
   "execution_count": 37,
   "metadata": {},
   "outputs": [
    {
     "name": "stdout",
     "output_type": "stream",
     "text": [
      "Accuracy: 0.952513966480447\n",
      "Confusion Matrix: {(0, 0): 10412, (0, 1): 221, (1, 0): 595, (1, 1): 5956}\n",
      "F1 Score: 0.9358893777498428\n",
      "\n"
     ]
    }
   ],
   "source": [
    "stats(train_y, lgbm_clf.predict(train_X))"
   ]
  },
  {
   "cell_type": "code",
   "execution_count": 39,
   "metadata": {},
   "outputs": [
    {
     "name": "stderr",
     "output_type": "stream",
     "text": [
      "C:\\Users\\Razer\\AppData\\Local\\Temp\\ipykernel_16932\\1242152342.py:3: ExperimentalWarning: plot_optimization_history is experimental (supported from v2.2.0). The interface can change in the future.\n",
      "  plot_optimization_history(study)\n"
     ]
    },
    {
     "data": {
      "text/plain": [
       "<AxesSubplot:title={'center':'Optimization History Plot'}, xlabel='#Trials', ylabel='Objective Value'>"
      ]
     },
     "execution_count": 39,
     "metadata": {},
     "output_type": "execute_result"
    },
    {
     "data": {
      "image/png": "[encoded data removed]",
      "text/plain": [
       "<Figure size 432x288 with 1 Axes>"
      ]
     },
     "metadata": {},
     "output_type": "display_data"
    }
   ],
   "source": [
    "from optuna.visualization.matplotlib import plot_optimization_history, plot_param_importances\n",
    "\n",
    "plot_optimization_history(study)"
   ]
  },
  {
   "cell_type": "code",
   "execution_count": 40,
   "metadata": {},
   "outputs": [
    {
     "name": "stderr",
     "output_type": "stream",
     "text": [
      "C:\\Users\\Razer\\AppData\\Local\\Temp\\ipykernel_16932\\3836449081.py:1: ExperimentalWarning: plot_param_importances is experimental (supported from v2.2.0). The interface can change in the future.\n",
      "  plot_param_importances(study)\n"
     ]
    },
    {
     "data": {
      "text/plain": [
       "<AxesSubplot:title={'center':'Hyperparameter Importances'}, xlabel='Importance for Objective Value', ylabel='Hyperparameter'>"
      ]
     },
     "execution_count": 40,
     "metadata": {},
     "output_type": "execute_result"
    },
    {
     "data": {
      "image/png": "[encoded data removed]",
      "text/plain": [
       "<Figure size 432x288 with 1 Axes>"
      ]
     },
     "metadata": {},
     "output_type": "display_data"
    }
   ],
   "source": [
    "plot_param_importances(study)"
   ]
  },
  {
   "cell_type": "code",
   "execution_count": 61,
   "metadata": {},
   "outputs": [],
   "source": [
    "from catboost import CatBoostClassifier\n",
    "\n",
    "model = CatBoostClassifier(n_estimators=2000, text_features=[0], colsample_bylevel=0.06, max_leaves=31, subsample=0.67, verbose=0, thread_count=6, random_state=42)\n",
    "model.fit(raw_train_X.reshape(raw_train_X.shape[0], 1), train_y)\n",
    "preds_class = model.predict(raw_test_X.reshape(raw_test_X.shape[0], 1))"
   ]
  },
  {
   "cell_type": "code",
   "execution_count": 62,
   "metadata": {},
   "outputs": [
    {
     "data": {
      "text/plain": [
       "array([0, 0, 1, ..., 1, 0, 0], dtype=int64)"
      ]
     },
     "execution_count": 62,
     "metadata": {},
     "output_type": "execute_result"
    }
   ],
   "source": [
    "preds_class"
   ]
  },
  {
   "cell_type": "code",
   "execution_count": 65,
   "metadata": {},
   "outputs": [],
   "source": [
    "write_submission_file(\"catboost.csv\", test_ids, preds_class)"
   ]
  },
  {
   "cell_type": "code",
   "execution_count": null,
   "metadata": {},
   "outputs": [],
   "source": []
  }
 ],
 "metadata": {
  "kernelspec": {
   "display_name": "Python 3.10.4 64-bit",
   "language": "python",
   "name": "python3"
  },
  "language_info": {
   "codemirror_mode": {
    "name": "ipython",
    "version": 3
   },
   "file_extension": ".py",
   "mimetype": "text/x-python",
   "name": "python",
   "nbconvert_exporter": "python",
   "pygments_lexer": "ipython3",
   "version": "3.10.4"
  },
  "orig_nbformat": 4,
  "vscode": {
   "interpreter": {
    "hash": "19874564d1ad227b4376cdb3a4cf5817845675b33b1922dc244c45e64fba8104"
   }
  }
 },
 "nbformat": 4,
 "nbformat_minor": 2
}
